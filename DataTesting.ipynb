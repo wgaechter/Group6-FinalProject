{
 "cells": [
  {
   "cell_type": "code",
   "execution_count": 1,
   "metadata": {},
   "outputs": [],
   "source": [
    "%matplotlib inline\n",
    "\n",
    "import pandas as pd\n",
    "import matplotlib.pyplot as plt\n",
    "import numpy as np\n",
    "\n",
    "from sklearn.model_selection import train_test_split\n",
    "from sklearn.linear_model import LinearRegression\n",
    "model = LinearRegression()"
   ]
  },
  {
   "cell_type": "code",
   "execution_count": 2,
   "metadata": {},
   "outputs": [],
   "source": [
    "data_21 = pd.read_csv(\"Data/2021.csv\")\n",
    "X_21 = data_21[[\"MOV/A\", \"ORtg/A\", \"DRtg/A\", \"NRtg/A\"]]\n",
    "teams = data_21.Team"
   ]
  },
  {
   "cell_type": "code",
   "execution_count": 3,
   "metadata": {},
   "outputs": [],
   "source": [
    "data = pd.read_csv(\"Data/2000 to 2020 data.csv\")"
   ]
  },
  {
   "cell_type": "code",
   "execution_count": 4,
   "metadata": {},
   "outputs": [
    {
     "data": {
      "text/html": [
       "<div>\n",
       "<style scoped>\n",
       "    .dataframe tbody tr th:only-of-type {\n",
       "        vertical-align: middle;\n",
       "    }\n",
       "\n",
       "    .dataframe tbody tr th {\n",
       "        vertical-align: top;\n",
       "    }\n",
       "\n",
       "    .dataframe thead th {\n",
       "        text-align: right;\n",
       "    }\n",
       "</style>\n",
       "<table border=\"1\" class=\"dataframe\">\n",
       "  <thead>\n",
       "    <tr style=\"text-align: right;\">\n",
       "      <th></th>\n",
       "      <th>Rk</th>\n",
       "      <th>Team</th>\n",
       "      <th>Conf</th>\n",
       "      <th>Div</th>\n",
       "      <th>W</th>\n",
       "      <th>L</th>\n",
       "      <th>W/L%</th>\n",
       "      <th>MOV</th>\n",
       "      <th>ORtg</th>\n",
       "      <th>DRtg</th>\n",
       "      <th>NRtg</th>\n",
       "      <th>MOV/A</th>\n",
       "      <th>ORtg/A</th>\n",
       "      <th>DRtg/A</th>\n",
       "      <th>NRtg/A</th>\n",
       "      <th>Year</th>\n",
       "    </tr>\n",
       "  </thead>\n",
       "  <tbody>\n",
       "    <tr>\n",
       "      <th>0</th>\n",
       "      <td>1</td>\n",
       "      <td>Los Angeles Lakers</td>\n",
       "      <td>W</td>\n",
       "      <td>P</td>\n",
       "      <td>67</td>\n",
       "      <td>15</td>\n",
       "      <td>0.817</td>\n",
       "      <td>8.55</td>\n",
       "      <td>107.85</td>\n",
       "      <td>98.79</td>\n",
       "      <td>9.05</td>\n",
       "      <td>8.41</td>\n",
       "      <td>107.66</td>\n",
       "      <td>98.75</td>\n",
       "      <td>8.92</td>\n",
       "      <td>2000</td>\n",
       "    </tr>\n",
       "    <tr>\n",
       "      <th>1</th>\n",
       "      <td>2</td>\n",
       "      <td>Portland Trail Blazers</td>\n",
       "      <td>W</td>\n",
       "      <td>P</td>\n",
       "      <td>59</td>\n",
       "      <td>23</td>\n",
       "      <td>0.720</td>\n",
       "      <td>6.40</td>\n",
       "      <td>108.75</td>\n",
       "      <td>101.67</td>\n",
       "      <td>7.08</td>\n",
       "      <td>6.37</td>\n",
       "      <td>108.71</td>\n",
       "      <td>101.68</td>\n",
       "      <td>7.03</td>\n",
       "      <td>2000</td>\n",
       "    </tr>\n",
       "    <tr>\n",
       "      <th>2</th>\n",
       "      <td>3</td>\n",
       "      <td>San Antonio Spurs</td>\n",
       "      <td>W</td>\n",
       "      <td>M</td>\n",
       "      <td>53</td>\n",
       "      <td>29</td>\n",
       "      <td>0.646</td>\n",
       "      <td>5.94</td>\n",
       "      <td>105.83</td>\n",
       "      <td>99.45</td>\n",
       "      <td>6.38</td>\n",
       "      <td>5.93</td>\n",
       "      <td>105.67</td>\n",
       "      <td>99.30</td>\n",
       "      <td>6.37</td>\n",
       "      <td>2000</td>\n",
       "    </tr>\n",
       "    <tr>\n",
       "      <th>3</th>\n",
       "      <td>4</td>\n",
       "      <td>Phoenix Suns</td>\n",
       "      <td>W</td>\n",
       "      <td>P</td>\n",
       "      <td>53</td>\n",
       "      <td>29</td>\n",
       "      <td>0.646</td>\n",
       "      <td>5.22</td>\n",
       "      <td>105.04</td>\n",
       "      <td>99.66</td>\n",
       "      <td>5.38</td>\n",
       "      <td>5.24</td>\n",
       "      <td>104.90</td>\n",
       "      <td>99.48</td>\n",
       "      <td>5.41</td>\n",
       "      <td>2000</td>\n",
       "    </tr>\n",
       "    <tr>\n",
       "      <th>4</th>\n",
       "      <td>5</td>\n",
       "      <td>Utah Jazz</td>\n",
       "      <td>W</td>\n",
       "      <td>M</td>\n",
       "      <td>55</td>\n",
       "      <td>27</td>\n",
       "      <td>0.671</td>\n",
       "      <td>4.46</td>\n",
       "      <td>107.97</td>\n",
       "      <td>103.09</td>\n",
       "      <td>4.88</td>\n",
       "      <td>4.52</td>\n",
       "      <td>108.00</td>\n",
       "      <td>103.06</td>\n",
       "      <td>4.94</td>\n",
       "      <td>2000</td>\n",
       "    </tr>\n",
       "  </tbody>\n",
       "</table>\n",
       "</div>"
      ],
      "text/plain": [
       "   Rk                    Team Conf Div   W   L   W/L%   MOV    ORtg    DRtg  \\\n",
       "0   1      Los Angeles Lakers    W   P  67  15  0.817  8.55  107.85   98.79   \n",
       "1   2  Portland Trail Blazers    W   P  59  23  0.720  6.40  108.75  101.67   \n",
       "2   3       San Antonio Spurs    W   M  53  29  0.646  5.94  105.83   99.45   \n",
       "3   4            Phoenix Suns    W   P  53  29  0.646  5.22  105.04   99.66   \n",
       "4   5               Utah Jazz    W   M  55  27  0.671  4.46  107.97  103.09   \n",
       "\n",
       "   NRtg  MOV/A  ORtg/A  DRtg/A  NRtg/A  Year  \n",
       "0  9.05   8.41  107.66   98.75    8.92  2000  \n",
       "1  7.08   6.37  108.71  101.68    7.03  2000  \n",
       "2  6.38   5.93  105.67   99.30    6.37  2000  \n",
       "3  5.38   5.24  104.90   99.48    5.41  2000  \n",
       "4  4.88   4.52  108.00  103.06    4.94  2000  "
      ]
     },
     "execution_count": 4,
     "metadata": {},
     "output_type": "execute_result"
    }
   ],
   "source": [
    "data.head()"
   ]
  },
  {
   "cell_type": "code",
   "execution_count": 5,
   "metadata": {},
   "outputs": [
    {
     "name": "stdout",
     "output_type": "stream",
     "text": [
      "(625, 4) (625, 1)\n"
     ]
    }
   ],
   "source": [
    "X = data[[\"MOV/A\", \"ORtg/A\", \"DRtg/A\", \"NRtg/A\"]]\n",
    "y = data[\"W\"].values.reshape(-1,1)\n",
    "feature_names = X.columns\n",
    "print(X.shape, y.shape)"
   ]
  },
  {
   "cell_type": "code",
   "execution_count": 6,
   "metadata": {},
   "outputs": [],
   "source": [
    "X_train, X_test, y_train, y_test = train_test_split(X, y, random_state=42)"
   ]
  },
  {
   "cell_type": "code",
   "execution_count": 7,
   "metadata": {},
   "outputs": [
    {
     "name": "stdout",
     "output_type": "stream",
     "text": [
      "Training Score: 0.9102617409009788\n",
      "Testing Score: 0.9087889905452942\n"
     ]
    }
   ],
   "source": [
    "model.fit(X_train, y_train)\n",
    "\n",
    "training_score = model.score(X_train, y_train)\n",
    "testing_score = model.score(X_test, y_test)\n",
    "\n",
    "print(f\"Training Score: {training_score}\")\n",
    "print(f\"Testing Score: {testing_score}\")"
   ]
  },
  {
   "cell_type": "code",
   "execution_count": 8,
   "metadata": {
    "scrolled": true
   },
   "outputs": [
    {
     "data": {
      "text/plain": [
       "Text(0.5, 1.0, 'Residual Plot')"
      ]
     },
     "execution_count": 8,
     "metadata": {},
     "output_type": "execute_result"
    },
    {
     "data": {
      "image/png": "[encoded data removed]",
      "text/plain": [
       "<Figure size 432x288 with 1 Axes>"
      ]
     },
     "metadata": {
      "needs_background": "light"
     },
     "output_type": "display_data"
    }
   ],
   "source": [
    "plt.scatter(model.predict(X_train), model.predict(X_train) - y_train, c=\"blue\", label=\"Training Data\")\n",
    "plt.scatter(model.predict(X_test), model.predict(X_test) - y_test, c=\"orange\", label=\"Testing Data\")\n",
    "plt.legend()\n",
    "plt.hlines(y=0, xmin=y.min(), xmax=y.max())\n",
    "plt.title(\"Residual Plot\")"
   ]
  },
  {
   "cell_type": "code",
   "execution_count": 9,
   "metadata": {},
   "outputs": [
    {
     "name": "stderr",
     "output_type": "stream",
     "text": [
      "C:\\Users\\dania\\anaconda3\\envs\\PythonData\\lib\\site-packages\\ipykernel_launcher.py:3: DataConversionWarning: A column-vector y was passed when a 1d array was expected. Please change the shape of y to (n_samples,), for example using ravel().\n",
      "  This is separate from the ipykernel package so we can avoid doing imports until\n"
     ]
    },
    {
     "data": {
      "text/plain": [
       "0.06369426751592357"
      ]
     },
     "execution_count": 9,
     "metadata": {},
     "output_type": "execute_result"
    }
   ],
   "source": [
    "from sklearn.ensemble import RandomForestClassifier\n",
    "rf = RandomForestClassifier(n_estimators=200)\n",
    "rf = rf.fit(X_train, y_train)\n",
    "rf.score(X_test, y_test)"
   ]
  },
  {
   "cell_type": "code",
   "execution_count": 10,
   "metadata": {},
   "outputs": [
    {
     "data": {
      "text/plain": [
       "[(0.2786976580859798, 'MOV/A'),\n",
       " (0.26057065539643565, 'NRtg/A'),\n",
       " (0.23150296155155825, 'ORtg/A'),\n",
       " (0.22922872496602642, 'DRtg/A')]"
      ]
     },
     "execution_count": 10,
     "metadata": {},
     "output_type": "execute_result"
    }
   ],
   "source": [
    "sorted(zip(rf.feature_importances_, feature_names), reverse=True)"
   ]
  },
  {
   "cell_type": "code",
   "execution_count": 11,
   "metadata": {},
   "outputs": [
    {
     "data": {
      "image/png": "[encoded data removed]",
      "text/plain": [
       "<Figure size 432x288 with 2 Axes>"
      ]
     },
     "metadata": {
      "needs_background": "light"
     },
     "output_type": "display_data"
    }
   ],
   "source": [
    "import pandas as pd\n",
    "import seaborn as sn\n",
    "import matplotlib.pyplot as plt\n",
    "\n",
    "corrMatrix = data[[\"MOV/A\", \"ORtg/A\", \"DRtg/A\", \"NRtg/A\"]].corr()\n",
    "sn.heatmap(corrMatrix, annot=True)\n",
    "plt.show()"
   ]
  },
  {
   "cell_type": "code",
   "execution_count": 12,
   "metadata": {},
   "outputs": [
    {
     "name": "stdout",
     "output_type": "stream",
     "text": [
      "First 32 Predictions:   [[67.24875378]\n",
      " [58.39748759]\n",
      " [55.01512965]\n",
      " [54.68663931]\n",
      " [53.16258879]\n",
      " [50.5530447 ]\n",
      " [50.43155199]\n",
      " [46.08731777]\n",
      " [45.28433826]\n",
      " [43.50391567]\n",
      " [42.78289128]\n",
      " [41.94509975]\n",
      " [40.82214428]\n",
      " [41.16746689]\n",
      " [40.29886893]\n",
      " [40.07811976]\n",
      " [40.55277475]\n",
      " [37.87845727]\n",
      " [37.75579648]\n",
      " [37.15735132]\n",
      " [37.263211  ]\n",
      " [35.63670881]\n",
      " [30.03932598]\n",
      " [27.72915581]\n",
      " [26.19708609]\n",
      " [26.63476481]\n",
      " [25.4386792 ]\n",
      " [20.48914275]\n",
      " [20.22145659]\n",
      " [19.05573527]]\n",
      "First 32 Actual labels: [[55], [45], [40], [51], [53], [43], [33], [37], [33], [59], [66], [53], [19], [49], [29], [42], [53], [36], [47], [34], [42], [59], [31], [23], [33], [35], [34], [42], [21], [32], [46], [23]]\n"
     ]
    }
   ],
   "source": [
    "predictions = model.predict(X_21)\n",
    "print(f\"First 32 Predictions:   {predictions[:32]}\")\n",
    "print(f\"First 32 Actual labels: {y_test[:32].tolist()}\")"
   ]
  },
  {
   "cell_type": "code",
   "execution_count": 13,
   "metadata": {},
   "outputs": [
    {
     "data": {
      "text/html": [
       "<div>\n",
       "<style scoped>\n",
       "    .dataframe tbody tr th:only-of-type {\n",
       "        vertical-align: middle;\n",
       "    }\n",
       "\n",
       "    .dataframe tbody tr th {\n",
       "        vertical-align: top;\n",
       "    }\n",
       "\n",
       "    .dataframe thead th {\n",
       "        text-align: right;\n",
       "    }\n",
       "</style>\n",
       "<table border=\"1\" class=\"dataframe\">\n",
       "  <thead>\n",
       "    <tr style=\"text-align: right;\">\n",
       "      <th></th>\n",
       "      <th>Team</th>\n",
       "      <th>Predicted Wins</th>\n",
       "    </tr>\n",
       "  </thead>\n",
       "  <tbody>\n",
       "    <tr>\n",
       "      <th>0</th>\n",
       "      <td>Utah Jazz</td>\n",
       "      <td>67.248754</td>\n",
       "    </tr>\n",
       "    <tr>\n",
       "      <th>1</th>\n",
       "      <td>Milwaukee Bucks</td>\n",
       "      <td>58.397488</td>\n",
       "    </tr>\n",
       "    <tr>\n",
       "      <th>2</th>\n",
       "      <td>Phoenix Suns</td>\n",
       "      <td>55.015130</td>\n",
       "    </tr>\n",
       "    <tr>\n",
       "      <th>3</th>\n",
       "      <td>Los Angeles Clippers</td>\n",
       "      <td>54.686639</td>\n",
       "    </tr>\n",
       "    <tr>\n",
       "      <th>4</th>\n",
       "      <td>Los Angeles Lakers</td>\n",
       "      <td>53.162589</td>\n",
       "    </tr>\n",
       "    <tr>\n",
       "      <th>5</th>\n",
       "      <td>Brooklyn Nets</td>\n",
       "      <td>50.553045</td>\n",
       "    </tr>\n",
       "    <tr>\n",
       "      <th>6</th>\n",
       "      <td>Denver Nuggets</td>\n",
       "      <td>50.431552</td>\n",
       "    </tr>\n",
       "    <tr>\n",
       "      <th>7</th>\n",
       "      <td>Philadelphia 76ers</td>\n",
       "      <td>46.087318</td>\n",
       "    </tr>\n",
       "    <tr>\n",
       "      <th>8</th>\n",
       "      <td>Toronto Raptors</td>\n",
       "      <td>45.284338</td>\n",
       "    </tr>\n",
       "    <tr>\n",
       "      <th>9</th>\n",
       "      <td>Golden State Warriors</td>\n",
       "      <td>43.503916</td>\n",
       "    </tr>\n",
       "    <tr>\n",
       "      <th>10</th>\n",
       "      <td>Indiana Pacers</td>\n",
       "      <td>42.782891</td>\n",
       "    </tr>\n",
       "    <tr>\n",
       "      <th>11</th>\n",
       "      <td>Boston Celtics</td>\n",
       "      <td>41.945100</td>\n",
       "    </tr>\n",
       "    <tr>\n",
       "      <th>12</th>\n",
       "      <td>Dallas Mavericks</td>\n",
       "      <td>40.822144</td>\n",
       "    </tr>\n",
       "    <tr>\n",
       "      <th>13</th>\n",
       "      <td>Memphis Grizzlies</td>\n",
       "      <td>41.167467</td>\n",
       "    </tr>\n",
       "    <tr>\n",
       "      <th>14</th>\n",
       "      <td>Atlanta Hawks</td>\n",
       "      <td>40.298869</td>\n",
       "    </tr>\n",
       "    <tr>\n",
       "      <th>15</th>\n",
       "      <td>New Orleans Pelicans</td>\n",
       "      <td>40.078120</td>\n",
       "    </tr>\n",
       "    <tr>\n",
       "      <th>16</th>\n",
       "      <td>New York Knicks</td>\n",
       "      <td>40.552775</td>\n",
       "    </tr>\n",
       "    <tr>\n",
       "      <th>17</th>\n",
       "      <td>San Antonio Spurs</td>\n",
       "      <td>37.878457</td>\n",
       "    </tr>\n",
       "    <tr>\n",
       "      <th>18</th>\n",
       "      <td>Miami Heat</td>\n",
       "      <td>37.755796</td>\n",
       "    </tr>\n",
       "    <tr>\n",
       "      <th>19</th>\n",
       "      <td>Charlotte Hornets</td>\n",
       "      <td>37.157351</td>\n",
       "    </tr>\n",
       "    <tr>\n",
       "      <th>20</th>\n",
       "      <td>Chicago Bulls</td>\n",
       "      <td>37.263211</td>\n",
       "    </tr>\n",
       "    <tr>\n",
       "      <th>21</th>\n",
       "      <td>Portland Trail Blazers</td>\n",
       "      <td>35.636709</td>\n",
       "    </tr>\n",
       "    <tr>\n",
       "      <th>22</th>\n",
       "      <td>Detroit Pistons</td>\n",
       "      <td>30.039326</td>\n",
       "    </tr>\n",
       "    <tr>\n",
       "      <th>23</th>\n",
       "      <td>Washington Wizards</td>\n",
       "      <td>27.729156</td>\n",
       "    </tr>\n",
       "    <tr>\n",
       "      <th>24</th>\n",
       "      <td>Sacramento Kings</td>\n",
       "      <td>26.197086</td>\n",
       "    </tr>\n",
       "    <tr>\n",
       "      <th>25</th>\n",
       "      <td>Oklahoma City Thunder</td>\n",
       "      <td>26.634765</td>\n",
       "    </tr>\n",
       "    <tr>\n",
       "      <th>26</th>\n",
       "      <td>Houston Rockets</td>\n",
       "      <td>25.438679</td>\n",
       "    </tr>\n",
       "    <tr>\n",
       "      <th>27</th>\n",
       "      <td>Orlando Magic</td>\n",
       "      <td>20.489143</td>\n",
       "    </tr>\n",
       "    <tr>\n",
       "      <th>28</th>\n",
       "      <td>Cleveland Cavaliers</td>\n",
       "      <td>20.221457</td>\n",
       "    </tr>\n",
       "    <tr>\n",
       "      <th>29</th>\n",
       "      <td>Minnesota Timberwolves</td>\n",
       "      <td>19.055735</td>\n",
       "    </tr>\n",
       "  </tbody>\n",
       "</table>\n",
       "</div>"
      ],
      "text/plain": [
       "                      Team  Predicted Wins\n",
       "0                Utah Jazz       67.248754\n",
       "1          Milwaukee Bucks       58.397488\n",
       "2             Phoenix Suns       55.015130\n",
       "3     Los Angeles Clippers       54.686639\n",
       "4       Los Angeles Lakers       53.162589\n",
       "5            Brooklyn Nets       50.553045\n",
       "6           Denver Nuggets       50.431552\n",
       "7       Philadelphia 76ers       46.087318\n",
       "8          Toronto Raptors       45.284338\n",
       "9    Golden State Warriors       43.503916\n",
       "10          Indiana Pacers       42.782891\n",
       "11          Boston Celtics       41.945100\n",
       "12        Dallas Mavericks       40.822144\n",
       "13       Memphis Grizzlies       41.167467\n",
       "14           Atlanta Hawks       40.298869\n",
       "15    New Orleans Pelicans       40.078120\n",
       "16         New York Knicks       40.552775\n",
       "17       San Antonio Spurs       37.878457\n",
       "18              Miami Heat       37.755796\n",
       "19       Charlotte Hornets       37.157351\n",
       "20           Chicago Bulls       37.263211\n",
       "21  Portland Trail Blazers       35.636709\n",
       "22         Detroit Pistons       30.039326\n",
       "23      Washington Wizards       27.729156\n",
       "24        Sacramento Kings       26.197086\n",
       "25   Oklahoma City Thunder       26.634765\n",
       "26         Houston Rockets       25.438679\n",
       "27           Orlando Magic       20.489143\n",
       "28     Cleveland Cavaliers       20.221457\n",
       "29  Minnesota Timberwolves       19.055735"
      ]
     },
     "execution_count": 13,
     "metadata": {},
     "output_type": "execute_result"
    }
   ],
   "source": [
    "pred = [x[0] for x in predictions]\n",
    "preds = pd.Series(pred)\n",
    "predictions_df = pd.concat([teams, preds],axis =1)\n",
    "predictions_df.rename(columns = {0: \"Predicted Wins\"}, inplace=True)\n",
    "predictions_df"
   ]
  },
  {
   "cell_type": "code",
   "execution_count": 16,
   "metadata": {},
   "outputs": [],
   "source": [
    "predictions_df.to_csv ('Data/predictions.csv', index = False, header=True)"
   ]
  },
  {
   "cell_type": "code",
   "execution_count": 14,
   "metadata": {},
   "outputs": [
    {
     "name": "stderr",
     "output_type": "stream",
     "text": [
      "C:\\Users\\dania\\anaconda3\\envs\\PythonData\\lib\\site-packages\\matplotlib\\collections.py:885: RuntimeWarning: invalid value encountered in sqrt\n",
      "  scale = np.sqrt(self._sizes) * dpi / 72.0 * self._factor\n"
     ]
    },
    {
     "data": {
      "text/plain": [
       "[]"
      ]
     },
     "execution_count": 14,
     "metadata": {},
     "output_type": "execute_result"
    },
    {
     "data": {
      "image/png": "[encoded data removed]",
      "text/plain": [
       "<Figure size 288x216 with 1 Axes>"
      ]
     },
     "metadata": {
      "needs_background": "light"
     },
     "output_type": "display_data"
    }
   ],
   "source": [
    "X1 = data[[\"MOV/A\", \"ORtg/A\", \"DRtg/A\"]]\n",
    "import numpy as np\n",
    "import matplotlib.pyplot as plt\n",
    "from mpl_toolkits.mplot3d import Axes3D\n",
    "\n",
    "\n",
    "from sklearn import decomposition\n",
    "from sklearn import datasets\n",
    "\n",
    "np.random.seed(5)\n",
    "\n",
    "centers = [[1, 1], [-1, -1], [1, -1]]\n",
    "\n",
    "fig = plt.figure(1, figsize=(4, 3))\n",
    "plt.clf()\n",
    "ax = Axes3D(fig, rect=[0, 0, .95, 1], elev=48, azim=134)\n",
    "\n",
    "plt.cla()\n",
    "pca = decomposition.PCA(n_components=3)\n",
    "pca.fit(X1)\n",
    "X1 = pca.transform(X1)\n",
    "\n",
    "# for name, label in [('MOV/A', 0), ('ORtg/A', 1), ('DRtg/A', 2)]:\n",
    "#     ax.text3D(X1[y == label, 0].mean(),\n",
    "#               X1[y == label, 1].mean() + 1.5,\n",
    "#               X1[y == label, 2].mean() ,name,\n",
    "        #      horizontalalignment='center',\n",
    "         #     bbox=dict(alpha=.5, edgecolor='w', facecolor='w'))\n",
    "# Reorder the labels to have colors matching the cluster results\n",
    "# y = np.choose(y, [1, 2, 0]).astype(float)\n",
    "plt.scatter(X1[:, 0], X1[:, 1], X1[:, 2], c=y, cmap=plt.cm.nipy_spectral,\n",
    "           edgecolor='k')\n",
    "\n",
    "ax.w_xaxis.set_ticklabels([])\n",
    "ax.w_yaxis.set_ticklabels([])\n",
    "ax.w_zaxis.set_ticklabels([])\n"
   ]
  },
  {
   "cell_type": "code",
   "execution_count": null,
   "metadata": {},
   "outputs": [],
   "source": []
  },
  {
   "cell_type": "code",
   "execution_count": null,
   "metadata": {},
   "outputs": [],
   "source": []
  }
 ],
 "metadata": {
  "kernelspec": {
   "display_name": "Python [conda env:PythonData]",
   "language": "python",
   "name": "conda-env-PythonData-py"
  },
  "language_info": {
   "codemirror_mode": {
    "name": "ipython",
    "version": 3
   },
   "file_extension": ".py",
   "mimetype": "text/x-python",
   "name": "python",
   "nbconvert_exporter": "python",
   "pygments_lexer": "ipython3",
   "version": "3.6.10"
  }
 },
 "nbformat": 4,
 "nbformat_minor": 2
}
