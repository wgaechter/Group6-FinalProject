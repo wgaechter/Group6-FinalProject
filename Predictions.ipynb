{
 "cells": [
  {
   "cell_type": "code",
   "execution_count": 12,
   "metadata": {},
   "outputs": [],
   "source": [
    "%matplotlib inline\n",
    "\n",
    "import pandas as pd\n",
    "import matplotlib.pyplot as plt\n",
    "import numpy as np\n",
    "\n",
    "from sklearn.model_selection import train_test_split\n",
    "from sklearn.linear_model import LinearRegression\n",
    "model = LinearRegression()"
   ]
  },
  {
   "cell_type": "code",
   "execution_count": null,
   "metadata": {},
   "outputs": [],
   "source": []
  },
  {
   "cell_type": "code",
   "execution_count": 13,
   "metadata": {},
   "outputs": [],
   "source": [
    "data_21 = pd.read_csv(\"Data/2021.csv\")\n",
    "X_21 = data_21[[\"MOV/A\", \"ORtg/A\", \"DRtg/A\", \"NRtg/A\"]]\n",
    "teams = data_21.Team"
   ]
  },
  {
   "cell_type": "code",
   "execution_count": 14,
   "metadata": {},
   "outputs": [],
   "source": [
    "data = pd.read_csv(\"Data/2000 to 2020 data.csv\")"
   ]
  },
  {
   "cell_type": "code",
   "execution_count": 15,
   "metadata": {},
   "outputs": [
    {
     "data": {
      "text/html": "<div>\n<style scoped>\n    .dataframe tbody tr th:only-of-type {\n        vertical-align: middle;\n    }\n\n    .dataframe tbody tr th {\n        vertical-align: top;\n    }\n\n    .dataframe thead th {\n        text-align: right;\n    }\n</style>\n<table border=\"1\" class=\"dataframe\">\n  <thead>\n    <tr style=\"text-align: right;\">\n      <th></th>\n      <th>Rk</th>\n      <th>Team</th>\n      <th>Conf</th>\n      <th>Div</th>\n      <th>W</th>\n      <th>L</th>\n      <th>W/L%</th>\n      <th>MOV</th>\n      <th>ORtg</th>\n      <th>DRtg</th>\n      <th>NRtg</th>\n      <th>MOV/A</th>\n      <th>ORtg/A</th>\n      <th>DRtg/A</th>\n      <th>NRtg/A</th>\n      <th>Year</th>\n    </tr>\n  </thead>\n  <tbody>\n    <tr>\n      <th>0</th>\n      <td>1</td>\n      <td>Los Angeles Lakers</td>\n      <td>W</td>\n      <td>P</td>\n      <td>67</td>\n      <td>15</td>\n      <td>0.817</td>\n      <td>8.55</td>\n      <td>107.85</td>\n      <td>98.79</td>\n      <td>9.05</td>\n      <td>8.41</td>\n      <td>107.66</td>\n      <td>98.75</td>\n      <td>8.92</td>\n      <td>2000</td>\n    </tr>\n    <tr>\n      <th>1</th>\n      <td>2</td>\n      <td>Portland Trail Blazers</td>\n      <td>W</td>\n      <td>P</td>\n      <td>59</td>\n      <td>23</td>\n      <td>0.720</td>\n      <td>6.40</td>\n      <td>108.75</td>\n      <td>101.67</td>\n      <td>7.08</td>\n      <td>6.37</td>\n      <td>108.71</td>\n      <td>101.68</td>\n      <td>7.03</td>\n      <td>2000</td>\n    </tr>\n    <tr>\n      <th>2</th>\n      <td>3</td>\n      <td>San Antonio Spurs</td>\n      <td>W</td>\n      <td>M</td>\n      <td>53</td>\n      <td>29</td>\n      <td>0.646</td>\n      <td>5.94</td>\n      <td>105.83</td>\n      <td>99.45</td>\n      <td>6.38</td>\n      <td>5.93</td>\n      <td>105.67</td>\n      <td>99.30</td>\n      <td>6.37</td>\n      <td>2000</td>\n    </tr>\n    <tr>\n      <th>3</th>\n      <td>4</td>\n      <td>Phoenix Suns</td>\n      <td>W</td>\n      <td>P</td>\n      <td>53</td>\n      <td>29</td>\n      <td>0.646</td>\n      <td>5.22</td>\n      <td>105.04</td>\n      <td>99.66</td>\n      <td>5.38</td>\n      <td>5.24</td>\n      <td>104.90</td>\n      <td>99.48</td>\n      <td>5.41</td>\n      <td>2000</td>\n    </tr>\n    <tr>\n      <th>4</th>\n      <td>5</td>\n      <td>Utah Jazz</td>\n      <td>W</td>\n      <td>M</td>\n      <td>55</td>\n      <td>27</td>\n      <td>0.671</td>\n      <td>4.46</td>\n      <td>107.97</td>\n      <td>103.09</td>\n      <td>4.88</td>\n      <td>4.52</td>\n      <td>108.00</td>\n      <td>103.06</td>\n      <td>4.94</td>\n      <td>2000</td>\n    </tr>\n  </tbody>\n</table>\n</div>",
      "text/plain": "   Rk                    Team Conf Div   W   L   W/L%   MOV    ORtg    DRtg  \\\n0   1      Los Angeles Lakers    W   P  67  15  0.817  8.55  107.85   98.79   \n1   2  Portland Trail Blazers    W   P  59  23  0.720  6.40  108.75  101.67   \n2   3       San Antonio Spurs    W   M  53  29  0.646  5.94  105.83   99.45   \n3   4            Phoenix Suns    W   P  53  29  0.646  5.22  105.04   99.66   \n4   5               Utah Jazz    W   M  55  27  0.671  4.46  107.97  103.09   \n\n   NRtg  MOV/A  ORtg/A  DRtg/A  NRtg/A  Year  \n0  9.05   8.41  107.66   98.75    8.92  2000  \n1  7.08   6.37  108.71  101.68    7.03  2000  \n2  6.38   5.93  105.67   99.30    6.37  2000  \n3  5.38   5.24  104.90   99.48    5.41  2000  \n4  4.88   4.52  108.00  103.06    4.94  2000  "
     },
     "execution_count": 15,
     "metadata": {},
     "output_type": "execute_result"
    }
   ],
   "source": [
    "data.head()"
   ]
  },
  {
   "cell_type": "code",
   "execution_count": 16,
   "metadata": {},
   "outputs": [
    {
     "name": "stdout",
     "output_type": "stream",
     "text": [
      "(625, 4) (625, 1)\n"
     ]
    }
   ],
   "source": [
    "X = data[[\"MOV/A\", \"ORtg/A\", \"DRtg/A\", \"NRtg/A\"]]\n",
    "y = data[\"W\"].values.reshape(-1,1)\n",
    "feature_names = X.columns\n",
    "print(X.shape, y.shape)"
   ]
  },
  {
   "cell_type": "code",
   "execution_count": 17,
   "metadata": {},
   "outputs": [],
   "source": [
    "X_train, X_test, y_train, y_test = train_test_split(X, y, random_state=42)"
   ]
  },
  {
   "cell_type": "code",
   "execution_count": 18,
   "metadata": {},
   "outputs": [
    {
     "name": "stdout",
     "output_type": "stream",
     "text": [
      "Training Score: 0.9102617409009789\n",
      "Testing Score: 0.9087889905452938\n"
     ]
    }
   ],
   "source": [
    "model.fit(X_train, y_train)\n",
    "\n",
    "training_score = model.score(X_train, y_train)\n",
    "testing_score = model.score(X_test, y_test)\n",
    "\n",
    "print(f\"Training Score: {training_score}\")\n",
    "print(f\"Testing Score: {testing_score}\")"
   ]
  },
  {
   "cell_type": "code",
   "execution_count": 19,
   "metadata": {
    "scrolled": true
   },
   "outputs": [
    {
     "data": {
      "text/plain": "Text(0.5, 1.0, 'Residual Plot')"
     },
     "execution_count": 19,
     "metadata": {},
     "output_type": "execute_result"
    },
    {
     "data": {
      "image/png": "[encoded data removed]",
      "text/plain": "<Figure size 432x288 with 1 Axes>"
     },
     "metadata": {
      "needs_background": "light",
      "transient": {}
     },
     "output_type": "display_data"
    }
   ],
   "source": [
    "plt.scatter(model.predict(X_train), model.predict(X_train) - y_train, c=\"blue\", label=\"Training Data\")\n",
    "plt.scatter(model.predict(X_test), model.predict(X_test) - y_test, c=\"orange\", label=\"Testing Data\")\n",
    "plt.legend()\n",
    "plt.hlines(y=0, xmin=y.min(), xmax=y.max())\n",
    "plt.title(\"Residual Plot\")"
   ]
  },
  {
   "cell_type": "code",
   "execution_count": 20,
   "metadata": {},
   "outputs": [
    {
     "data": {
      "text/plain": "0.08280254777070063"
     },
     "execution_count": 20,
     "metadata": {},
     "output_type": "execute_result"
    }
   ],
   "source": [
    "from sklearn.ensemble import RandomForestClassifier\n",
    "rf = RandomForestClassifier(n_estimators=200)\n",
    "rf = rf.fit(X_train, y_train)\n",
    "rf.score(X_test, y_test)"
   ]
  },
  {
   "cell_type": "code",
   "execution_count": 21,
   "metadata": {},
   "outputs": [
    {
     "data": {
      "text/plain": "[(0.27919303209681373, 'MOV/A'),\n (0.25915407072994184, 'NRtg/A'),\n (0.23375907615862868, 'DRtg/A'),\n (0.22789382101461575, 'ORtg/A')]"
     },
     "execution_count": 21,
     "metadata": {},
     "output_type": "execute_result"
    }
   ],
   "source": [
    "sorted(zip(rf.feature_importances_, feature_names), reverse=True)"
   ]
  },
  {
   "cell_type": "code",
   "execution_count": 22,
   "metadata": {},
   "outputs": [
    {
     "data": {
      "image/png": "[encoded data removed]",
      "text/plain": "<Figure size 432x288 with 2 Axes>"
     },
     "metadata": {
      "needs_background": "light",
      "transient": {}
     },
     "output_type": "display_data"
    }
   ],
   "source": [
    "import pandas as pd\n",
    "import seaborn as sn\n",
    "import matplotlib.pyplot as plt\n",
    "\n",
    "corrMatrix = data[[\"MOV/A\", \"ORtg/A\", \"DRtg/A\", \"NRtg/A\"]].corr()\n",
    "sn.heatmap(corrMatrix, annot=True)\n",
    "plt.show()"
   ]
  },
  {
   "cell_type": "code",
   "execution_count": 23,
   "metadata": {},
   "outputs": [
    {
     "name": "stdout",
     "output_type": "stream",
     "text": [
      "First 32 Predictions:   [[67.24875378]\n",
      " [58.39748759]\n",
      " [55.01512965]\n",
      " [54.68663931]\n",
      " [53.16258879]\n",
      " [50.5530447 ]\n",
      " [50.43155199]\n",
      " [46.08731777]\n",
      " [45.28433826]\n",
      " [43.50391567]\n",
      " [42.78289128]\n",
      " [41.94509975]\n",
      " [40.82214428]\n",
      " [41.16746689]\n",
      " [40.29886893]\n",
      " [40.07811976]\n",
      " [40.55277475]\n",
      " [37.87845727]\n",
      " [37.75579648]\n",
      " [37.15735132]\n",
      " [37.263211  ]\n",
      " [35.63670881]\n",
      " [30.03932598]\n",
      " [27.72915581]\n",
      " [26.19708609]\n",
      " [26.63476481]\n",
      " [25.4386792 ]\n",
      " [20.48914275]\n",
      " [20.22145659]\n",
      " [19.05573527]]\n",
      "First 32 Actual labels: [[55], [45], [40], [51], [53], [43], [33], [37], [33], [59], [66], [53], [19], [49], [29], [42], [53], [36], [47], [34], [42], [59], [31], [23], [33], [35], [34], [42], [21], [32], [46], [23]]\n"
     ]
    }
   ],
   "source": [
    "predictions = model.predict(X_21)\n",
    "print(f\"First 32 Predictions:   {predictions[:32]}\")\n",
    "print(f\"First 32 Actual labels: {y_test[:32].tolist()}\")"
   ]
  },
  {
   "cell_type": "code",
   "execution_count": 24,
   "metadata": {},
   "outputs": [
    {
     "data": {
      "text/html": "<div>\n<style scoped>\n    .dataframe tbody tr th:only-of-type {\n        vertical-align: middle;\n    }\n\n    .dataframe tbody tr th {\n        vertical-align: top;\n    }\n\n    .dataframe thead th {\n        text-align: right;\n    }\n</style>\n<table border=\"1\" class=\"dataframe\">\n  <thead>\n    <tr style=\"text-align: right;\">\n      <th></th>\n      <th>Team</th>\n      <th>Predicted Wins</th>\n    </tr>\n  </thead>\n  <tbody>\n    <tr>\n      <th>0</th>\n      <td>Utah Jazz</td>\n      <td>67.248754</td>\n    </tr>\n    <tr>\n      <th>1</th>\n      <td>Milwaukee Bucks</td>\n      <td>58.397488</td>\n    </tr>\n    <tr>\n      <th>2</th>\n      <td>Phoenix Suns</td>\n      <td>55.015130</td>\n    </tr>\n    <tr>\n      <th>3</th>\n      <td>Los Angeles Clippers</td>\n      <td>54.686639</td>\n    </tr>\n    <tr>\n      <th>4</th>\n      <td>Los Angeles Lakers</td>\n      <td>53.162589</td>\n    </tr>\n    <tr>\n      <th>5</th>\n      <td>Brooklyn Nets</td>\n      <td>50.553045</td>\n    </tr>\n    <tr>\n      <th>6</th>\n      <td>Denver Nuggets</td>\n      <td>50.431552</td>\n    </tr>\n    <tr>\n      <th>7</th>\n      <td>Philadelphia 76ers</td>\n      <td>46.087318</td>\n    </tr>\n    <tr>\n      <th>8</th>\n      <td>Toronto Raptors</td>\n      <td>45.284338</td>\n    </tr>\n    <tr>\n      <th>9</th>\n      <td>Golden State Warriors</td>\n      <td>43.503916</td>\n    </tr>\n    <tr>\n      <th>10</th>\n      <td>Indiana Pacers</td>\n      <td>42.782891</td>\n    </tr>\n    <tr>\n      <th>11</th>\n      <td>Boston Celtics</td>\n      <td>41.945100</td>\n    </tr>\n    <tr>\n      <th>12</th>\n      <td>Dallas Mavericks</td>\n      <td>40.822144</td>\n    </tr>\n    <tr>\n      <th>13</th>\n      <td>Memphis Grizzlies</td>\n      <td>41.167467</td>\n    </tr>\n    <tr>\n      <th>14</th>\n      <td>Atlanta Hawks</td>\n      <td>40.298869</td>\n    </tr>\n    <tr>\n      <th>15</th>\n      <td>New Orleans Pelicans</td>\n      <td>40.078120</td>\n    </tr>\n    <tr>\n      <th>16</th>\n      <td>New York Knicks</td>\n      <td>40.552775</td>\n    </tr>\n    <tr>\n      <th>17</th>\n      <td>San Antonio Spurs</td>\n      <td>37.878457</td>\n    </tr>\n    <tr>\n      <th>18</th>\n      <td>Miami Heat</td>\n      <td>37.755796</td>\n    </tr>\n    <tr>\n      <th>19</th>\n      <td>Charlotte Hornets</td>\n      <td>37.157351</td>\n    </tr>\n    <tr>\n      <th>20</th>\n      <td>Chicago Bulls</td>\n      <td>37.263211</td>\n    </tr>\n    <tr>\n      <th>21</th>\n      <td>Portland Trail Blazers</td>\n      <td>35.636709</td>\n    </tr>\n    <tr>\n      <th>22</th>\n      <td>Detroit Pistons</td>\n      <td>30.039326</td>\n    </tr>\n    <tr>\n      <th>23</th>\n      <td>Washington Wizards</td>\n      <td>27.729156</td>\n    </tr>\n    <tr>\n      <th>24</th>\n      <td>Sacramento Kings</td>\n      <td>26.197086</td>\n    </tr>\n    <tr>\n      <th>25</th>\n      <td>Oklahoma City Thunder</td>\n      <td>26.634765</td>\n    </tr>\n    <tr>\n      <th>26</th>\n      <td>Houston Rockets</td>\n      <td>25.438679</td>\n    </tr>\n    <tr>\n      <th>27</th>\n      <td>Orlando Magic</td>\n      <td>20.489143</td>\n    </tr>\n    <tr>\n      <th>28</th>\n      <td>Cleveland Cavaliers</td>\n      <td>20.221457</td>\n    </tr>\n    <tr>\n      <th>29</th>\n      <td>Minnesota Timberwolves</td>\n      <td>19.055735</td>\n    </tr>\n  </tbody>\n</table>\n</div>",
      "text/plain": "                      Team  Predicted Wins\n0                Utah Jazz       67.248754\n1          Milwaukee Bucks       58.397488\n2             Phoenix Suns       55.015130\n3     Los Angeles Clippers       54.686639\n4       Los Angeles Lakers       53.162589\n5            Brooklyn Nets       50.553045\n6           Denver Nuggets       50.431552\n7       Philadelphia 76ers       46.087318\n8          Toronto Raptors       45.284338\n9    Golden State Warriors       43.503916\n10          Indiana Pacers       42.782891\n11          Boston Celtics       41.945100\n12        Dallas Mavericks       40.822144\n13       Memphis Grizzlies       41.167467\n14           Atlanta Hawks       40.298869\n15    New Orleans Pelicans       40.078120\n16         New York Knicks       40.552775\n17       San Antonio Spurs       37.878457\n18              Miami Heat       37.755796\n19       Charlotte Hornets       37.157351\n20           Chicago Bulls       37.263211\n21  Portland Trail Blazers       35.636709\n22         Detroit Pistons       30.039326\n23      Washington Wizards       27.729156\n24        Sacramento Kings       26.197086\n25   Oklahoma City Thunder       26.634765\n26         Houston Rockets       25.438679\n27           Orlando Magic       20.489143\n28     Cleveland Cavaliers       20.221457\n29  Minnesota Timberwolves       19.055735"
     },
     "execution_count": 24,
     "metadata": {},
     "output_type": "execute_result"
    }
   ],
   "source": [
    "pred = [x[0] for x in predictions]\n",
    "preds = pd.Series(pred)\n",
    "predictions_df = pd.concat([teams, preds],axis =1)\n",
    "predictions_df.rename(columns = {0: \"Predicted Wins\"}, inplace=True)\n",
    "predictions_df\n"
   ]
  },
  {
   "cell_type": "code",
   "execution_count": 25,
   "metadata": {},
   "outputs": [
    {
     "data": {
      "text/plain": "[Text(-0.06, 0, ''),\n Text(-0.039999999999999994, 0, ''),\n Text(-0.019999999999999997, 0, ''),\n Text(0.0, 0, ''),\n Text(0.020000000000000004, 0, ''),\n Text(0.04000000000000001, 0, ''),\n Text(0.06, 0, '')]"
     },
     "execution_count": 25,
     "metadata": {},
     "output_type": "execute_result"
    },
    {
     "data": {
      "image/png": "[encoded data removed]",
      "text/plain": "<Figure size 288x216 with 1 Axes>"
     },
     "metadata": {
      "needs_background": "light",
      "transient": {}
     },
     "output_type": "display_data"
    }
   ],
   "source": [
    "X1 = data[[\"MOV/A\", \"ORtg/A\", \"DRtg/A\"]]\n",
    "import numpy as np\n",
    "import matplotlib.pyplot as plt\n",
    "from mpl_toolkits.mplot3d import Axes3D\n",
    "\n",
    "\n",
    "from sklearn import decomposition\n",
    "from sklearn import datasets\n",
    "\n",
    "np.random.seed(5)\n",
    "\n",
    "centers = [[1, 1], [-1, -1], [1, -1]]\n",
    "\n",
    "fig = plt.figure(1, figsize=(4, 3))\n",
    "plt.clf()\n",
    "ax = Axes3D(fig, rect=[0, 0, .95, 1], elev=48, azim=134)\n",
    "\n",
    "plt.cla()\n",
    "pca = decomposition.PCA(n_components=3)\n",
    "pca.fit(X1)\n",
    "X1 = pca.transform(X1)\n",
    "\n",
    "# for name, label in [('MOV/A', 0), ('ORtg/A', 1), ('DRtg/A', 2)]:\n",
    "#     ax.text3D(X1[y == label, 0].mean(),\n",
    "#               X1[y == label, 1].mean() + 1.5,\n",
    "#               X1[y == label, 2].mean() ,name,\n",
    "        #      horizontalalignment='center',\n",
    "         #     bbox=dict(alpha=.5, edgecolor='w', facecolor='w'))\n",
    "# Reorder the labels to have colors matching the cluster results\n",
    "# y = np.choose(y, [1, 2, 0]).astype(float)\n",
    "plt.scatter(X1[:, 0], X1[:, 1], X1[:, 2], c=y, cmap=plt.cm.nipy_spectral,\n",
    "           edgecolor='k')\n",
    "\n",
    "ax.w_xaxis.set_ticklabels([])\n",
    "ax.w_yaxis.set_ticklabels([])\n",
    "ax.w_zaxis.set_ticklabels([])\n"
   ]
  },
  {
   "cell_type": "code",
   "execution_count": 26,
   "metadata": {},
   "outputs": [
    {
     "data": {
      "text/html": "<div>\n<style scoped>\n    .dataframe tbody tr th:only-of-type {\n        vertical-align: middle;\n    }\n\n    .dataframe tbody tr th {\n        vertical-align: top;\n    }\n\n    .dataframe thead th {\n        text-align: right;\n    }\n</style>\n<table border=\"1\" class=\"dataframe\">\n  <thead>\n    <tr style=\"text-align: right;\">\n      <th></th>\n      <th>Player</th>\n      <th>Age</th>\n      <th>Tm</th>\n      <th>G</th>\n      <th>PTS</th>\n      <th>TRB</th>\n      <th>AST</th>\n      <th>STL</th>\n      <th>BLK</th>\n      <th>FG%</th>\n      <th>3P%</th>\n      <th>FT%</th>\n      <th>MVP</th>\n    </tr>\n  </thead>\n  <tbody>\n    <tr>\n      <th>0</th>\n      <td>Giannis Antetokounmpo\\antetgi01</td>\n      <td>25</td>\n      <td>MIL</td>\n      <td>63</td>\n      <td>29.5</td>\n      <td>13.6</td>\n      <td>5.6</td>\n      <td>1.0</td>\n      <td>1.0</td>\n      <td>0.553</td>\n      <td>0.304</td>\n      <td>0.633</td>\n      <td>Y</td>\n    </tr>\n    <tr>\n      <th>1</th>\n      <td>Giannis Antetokounmpo\\antetgi01</td>\n      <td>24</td>\n      <td>MIL</td>\n      <td>72</td>\n      <td>27.7</td>\n      <td>12.5</td>\n      <td>5.9</td>\n      <td>1.3</td>\n      <td>1.5</td>\n      <td>0.578</td>\n      <td>0.256</td>\n      <td>0.729</td>\n      <td>Y</td>\n    </tr>\n    <tr>\n      <th>2</th>\n      <td>James Harden\\hardeja01</td>\n      <td>28</td>\n      <td>HOU</td>\n      <td>72</td>\n      <td>30.4</td>\n      <td>5.4</td>\n      <td>8.8</td>\n      <td>1.8</td>\n      <td>0.7</td>\n      <td>0.449</td>\n      <td>0.367</td>\n      <td>0.858</td>\n      <td>Y</td>\n    </tr>\n    <tr>\n      <th>3</th>\n      <td>Russell Westbrook\\westbru01</td>\n      <td>28</td>\n      <td>OKC</td>\n      <td>81</td>\n      <td>31.6</td>\n      <td>10.7</td>\n      <td>10.4</td>\n      <td>1.6</td>\n      <td>0.4</td>\n      <td>0.425</td>\n      <td>0.343</td>\n      <td>0.845</td>\n      <td>Y</td>\n    </tr>\n    <tr>\n      <th>4</th>\n      <td>Stephen Curry\\curryst01</td>\n      <td>27</td>\n      <td>GSW</td>\n      <td>79</td>\n      <td>30.1</td>\n      <td>5.4</td>\n      <td>6.7</td>\n      <td>2.1</td>\n      <td>0.2</td>\n      <td>0.504</td>\n      <td>0.454</td>\n      <td>0.908</td>\n      <td>Y</td>\n    </tr>\n    <tr>\n      <th>...</th>\n      <td>...</td>\n      <td>...</td>\n      <td>...</td>\n      <td>...</td>\n      <td>...</td>\n      <td>...</td>\n      <td>...</td>\n      <td>...</td>\n      <td>...</td>\n      <td>...</td>\n      <td>...</td>\n      <td>...</td>\n      <td>...</td>\n    </tr>\n    <tr>\n      <th>95</th>\n      <td>Keita Bates-Diop\\bateske01</td>\n      <td>24</td>\n      <td>TOT</td>\n      <td>44</td>\n      <td>6.5</td>\n      <td>2.9</td>\n      <td>0.7</td>\n      <td>0.4</td>\n      <td>0.5</td>\n      <td>0.427</td>\n      <td>0.330</td>\n      <td>0.720</td>\n      <td>N</td>\n    </tr>\n    <tr>\n      <th>96</th>\n      <td>Keita Bates-Diop\\bateske01</td>\n      <td>24</td>\n      <td>MIN</td>\n      <td>37</td>\n      <td>6.8</td>\n      <td>3.0</td>\n      <td>0.8</td>\n      <td>0.5</td>\n      <td>0.5</td>\n      <td>0.422</td>\n      <td>0.330</td>\n      <td>0.708</td>\n      <td>N</td>\n    </tr>\n    <tr>\n      <th>97</th>\n      <td>Keita Bates-Diop\\bateske01</td>\n      <td>24</td>\n      <td>DEN</td>\n      <td>7</td>\n      <td>5.3</td>\n      <td>2.4</td>\n      <td>0.0</td>\n      <td>0.3</td>\n      <td>0.6</td>\n      <td>0.464</td>\n      <td>0.333</td>\n      <td>0.800</td>\n      <td>N</td>\n    </tr>\n    <tr>\n      <th>98</th>\n      <td>Nicolas Batum\\batumni01</td>\n      <td>31</td>\n      <td>CHO</td>\n      <td>22</td>\n      <td>3.6</td>\n      <td>4.5</td>\n      <td>3.0</td>\n      <td>0.8</td>\n      <td>0.4</td>\n      <td>0.346</td>\n      <td>0.286</td>\n      <td>0.900</td>\n      <td>N</td>\n    </tr>\n    <tr>\n      <th>99</th>\n      <td>Aron Baynes\\baynear01</td>\n      <td>33</td>\n      <td>PHO</td>\n      <td>42</td>\n      <td>11.5</td>\n      <td>5.6</td>\n      <td>1.6</td>\n      <td>0.2</td>\n      <td>0.5</td>\n      <td>0.480</td>\n      <td>0.351</td>\n      <td>0.747</td>\n      <td>N</td>\n    </tr>\n  </tbody>\n</table>\n<p>100 rows × 13 columns</p>\n</div>",
      "text/plain": "                             Player  Age   Tm   G   PTS   TRB   AST  STL  BLK  \\\n0   Giannis Antetokounmpo\\antetgi01   25  MIL  63  29.5  13.6   5.6  1.0  1.0   \n1   Giannis Antetokounmpo\\antetgi01   24  MIL  72  27.7  12.5   5.9  1.3  1.5   \n2            James Harden\\hardeja01   28  HOU  72  30.4   5.4   8.8  1.8  0.7   \n3       Russell Westbrook\\westbru01   28  OKC  81  31.6  10.7  10.4  1.6  0.4   \n4           Stephen Curry\\curryst01   27  GSW  79  30.1   5.4   6.7  2.1  0.2   \n..                              ...  ...  ...  ..   ...   ...   ...  ...  ...   \n95       Keita Bates-Diop\\bateske01   24  TOT  44   6.5   2.9   0.7  0.4  0.5   \n96       Keita Bates-Diop\\bateske01   24  MIN  37   6.8   3.0   0.8  0.5  0.5   \n97       Keita Bates-Diop\\bateske01   24  DEN   7   5.3   2.4   0.0  0.3  0.6   \n98          Nicolas Batum\\batumni01   31  CHO  22   3.6   4.5   3.0  0.8  0.4   \n99            Aron Baynes\\baynear01   33  PHO  42  11.5   5.6   1.6  0.2  0.5   \n\n      FG%    3P%    FT% MVP  \n0   0.553  0.304  0.633   Y  \n1   0.578  0.256  0.729   Y  \n2   0.449  0.367  0.858   Y  \n3   0.425  0.343  0.845   Y  \n4   0.504  0.454  0.908   Y  \n..    ...    ...    ...  ..  \n95  0.427  0.330  0.720   N  \n96  0.422  0.330  0.708   N  \n97  0.464  0.333  0.800   N  \n98  0.346  0.286  0.900   N  \n99  0.480  0.351  0.747   N  \n\n[100 rows x 13 columns]"
     },
     "execution_count": 26,
     "metadata": {},
     "output_type": "execute_result"
    }
   ],
   "source": [
    "mvp_hist = pd.read_csv(\"Data/MVP Data History.csv\")\n",
    "mvp_hist.head(100)"
   ]
  },
  {
   "cell_type": "code",
   "execution_count": 27,
   "metadata": {},
   "outputs": [
    {
     "name": "stdout",
     "output_type": "stream",
     "text": [
      "[[9.99985272e-01 1.47275484e-05]\n",
      " [9.99989342e-01 1.06579470e-05]\n",
      " [5.32308051e-01 4.67691949e-01]\n",
      " [1.64529809e-01 8.35470191e-01]\n",
      " [9.99993348e-01 6.65230925e-06]\n",
      " [9.99998794e-01 1.20621098e-06]\n",
      " [9.99984688e-01 1.53124325e-05]\n",
      " [9.99990177e-01 9.82269538e-06]\n",
      " [9.99968695e-01 3.13047513e-05]\n",
      " [9.99756429e-01 2.43570927e-04]\n",
      " [9.99949746e-01 5.02540915e-05]\n",
      " [9.99948742e-01 5.12583629e-05]\n",
      " [9.99999757e-01 2.42962090e-07]\n",
      " [9.99968307e-01 3.16927952e-05]\n",
      " [9.99457969e-01 5.42031176e-04]\n",
      " [9.94981774e-01 5.01822575e-03]\n",
      " [9.99995984e-01 4.01616769e-06]\n",
      " [9.86605926e-01 1.33940741e-02]\n",
      " [9.99992146e-01 7.85404336e-06]\n",
      " [9.99999477e-01 5.23014905e-07]\n",
      " [9.99876852e-01 1.23147607e-04]\n",
      " [9.99985547e-01 1.44528627e-05]\n",
      " [9.99995340e-01 4.65953734e-06]\n",
      " [9.99997214e-01 2.78587412e-06]\n",
      " [9.99969801e-01 3.01985155e-05]\n",
      " [9.93349396e-01 6.65060415e-03]\n",
      " [9.99995708e-01 4.29188769e-06]\n",
      " [2.67808515e-03 9.97321915e-01]\n",
      " [9.99980719e-01 1.92810065e-05]\n",
      " [9.99991404e-01 8.59640634e-06]\n",
      " [9.19044748e-01 8.09552515e-02]\n",
      " [9.99996843e-01 3.15746449e-06]\n",
      " [9.90940617e-01 9.05938348e-03]\n",
      " [9.99999056e-01 9.44030435e-07]\n",
      " [9.99910629e-01 8.93710596e-05]\n",
      " [9.99984180e-01 1.58200630e-05]\n",
      " [6.33151670e-03 9.93668483e-01]\n",
      " [9.99999069e-01 9.31474530e-07]\n",
      " [9.95207916e-01 4.79208367e-03]\n",
      " [9.98076622e-01 1.92337762e-03]\n",
      " [9.99976085e-01 2.39147493e-05]\n",
      " [9.99937921e-01 6.20788419e-05]\n",
      " [9.99949053e-01 5.09470193e-05]\n",
      " [1.80655009e-01 8.19344991e-01]\n",
      " [9.99997901e-01 2.09888877e-06]\n",
      " [6.59931623e-01 3.40068377e-01]\n",
      " [9.97431746e-01 2.56825373e-03]\n",
      " [9.99994326e-01 5.67425196e-06]\n",
      " [9.99889683e-01 1.10316797e-04]\n",
      " [9.99974842e-01 2.51578609e-05]\n",
      " [9.90983873e-01 9.01612674e-03]\n",
      " [9.99993405e-01 6.59450189e-06]\n",
      " [9.99990125e-01 9.87503051e-06]\n",
      " [9.99999509e-01 4.91097246e-07]\n",
      " [9.99992141e-01 7.85902815e-06]\n",
      " [9.99998268e-01 1.73236607e-06]\n",
      " [9.99598977e-01 4.01023405e-04]\n",
      " [9.99304989e-01 6.95011278e-04]\n",
      " [8.74286574e-01 1.25713426e-01]\n",
      " [9.99999330e-01 6.69974805e-07]\n",
      " [9.99087097e-01 9.12903320e-04]\n",
      " [9.99985900e-01 1.40996358e-05]\n",
      " [9.99552702e-01 4.47298239e-04]\n",
      " [9.99965780e-01 3.42202197e-05]\n",
      " [9.99994115e-01 5.88537205e-06]\n",
      " [9.99990803e-01 9.19657375e-06]\n",
      " [9.99989094e-01 1.09063380e-05]\n",
      " [9.99977355e-01 2.26447790e-05]\n",
      " [9.99985275e-01 1.47254849e-05]\n",
      " [9.99941352e-01 5.86475542e-05]\n",
      " [9.99997020e-01 2.98015541e-06]\n",
      " [9.99960108e-01 3.98924277e-05]\n",
      " [9.99968777e-01 3.12232985e-05]\n",
      " [9.99947372e-01 5.26279430e-05]\n",
      " [9.96374111e-01 3.62588902e-03]\n",
      " [9.99870487e-01 1.29513296e-04]\n",
      " [9.99928803e-01 7.11973620e-05]\n",
      " [8.38275511e-01 1.61724489e-01]\n",
      " [9.99993988e-01 6.01239388e-06]\n",
      " [9.58786591e-01 4.12134093e-02]\n",
      " [9.99824182e-01 1.75817586e-04]\n",
      " [9.52448306e-01 4.75516935e-02]\n",
      " [9.99920645e-01 7.93554556e-05]\n",
      " [9.99887229e-01 1.12771200e-04]\n",
      " [9.99970183e-01 2.98174278e-05]\n",
      " [9.99940569e-01 5.94309506e-05]\n",
      " [9.98138351e-01 1.86164862e-03]\n",
      " [9.99985220e-01 1.47798175e-05]\n",
      " [9.99579958e-01 4.20042034e-04]\n",
      " [9.99996936e-01 3.06448466e-06]\n",
      " [9.99922170e-01 7.78304614e-05]\n",
      " [9.85173338e-01 1.48266617e-02]\n",
      " [1.39108722e-01 8.60891278e-01]\n",
      " [9.97669159e-01 2.33084078e-03]\n",
      " [9.99999666e-01 3.34306442e-07]\n",
      " [9.99974891e-01 2.51086493e-05]\n",
      " [9.99993130e-01 6.87012185e-06]\n",
      " [9.99979811e-01 2.01885549e-05]\n",
      " [9.99999325e-01 6.75147380e-07]\n",
      " [9.99977426e-01 2.25738213e-05]\n",
      " [9.70470094e-01 2.95299063e-02]\n",
      " [9.98760052e-01 1.23994761e-03]\n",
      " [9.22991391e-01 7.70086091e-02]\n",
      " [9.99999900e-01 9.98014232e-08]\n",
      " [9.99915655e-01 8.43453202e-05]\n",
      " [9.99251054e-01 7.48946077e-04]\n",
      " [9.99743734e-01 2.56266256e-04]\n",
      " [9.70139145e-01 2.98608550e-02]\n",
      " [9.99996636e-01 3.36449084e-06]\n",
      " [9.99995312e-01 4.68751998e-06]\n",
      " [9.99951490e-01 4.85095830e-05]\n",
      " [9.99993564e-01 6.43552640e-06]\n",
      " [9.99999951e-01 4.88650883e-08]\n",
      " [9.99998672e-01 1.32826936e-06]\n",
      " [9.99951524e-01 4.84761847e-05]\n",
      " [9.99866619e-01 1.33381288e-04]\n",
      " [9.02627586e-01 9.73724138e-02]\n",
      " [9.99993199e-01 6.80051873e-06]\n",
      " [9.99775102e-01 2.24897912e-04]\n",
      " [9.99995778e-01 4.22218372e-06]\n",
      " [6.39841357e-01 3.60158643e-01]\n",
      " [1.43758667e-02 9.85624133e-01]\n",
      " [9.99913350e-01 8.66497540e-05]\n",
      " [9.99954566e-01 4.54341523e-05]\n",
      " [9.99998090e-01 1.91032670e-06]\n",
      " [9.81535207e-01 1.84647929e-02]\n",
      " [9.99996305e-01 3.69477966e-06]\n",
      " [9.99997067e-01 2.93260072e-06]\n",
      " [9.99998567e-01 1.43255795e-06]\n",
      " [9.99985144e-01 1.48559143e-05]\n",
      " [9.99858234e-01 1.41766196e-04]\n",
      " [9.99999240e-01 7.60442064e-07]\n",
      " [9.99996063e-01 3.93681498e-06]\n",
      " [9.99912762e-01 8.72379676e-05]\n",
      " [9.99826637e-01 1.73362696e-04]\n",
      " [9.99995481e-01 4.51942037e-06]\n",
      " [9.99993581e-01 6.41912565e-06]\n",
      " [9.99804342e-01 1.95658377e-04]\n",
      " [9.99737790e-01 2.62209999e-04]\n",
      " [9.99999698e-01 3.02266578e-07]\n",
      " [9.99996893e-01 3.10658938e-06]\n",
      " [9.99999743e-01 2.56711755e-07]\n",
      " [6.55555423e-01 3.44444577e-01]\n",
      " [9.99997638e-01 2.36155109e-06]\n",
      " [1.65248873e-01 8.34751127e-01]\n",
      " [9.27610303e-01 7.23896971e-02]\n",
      " [6.50490223e-01 3.49509777e-01]\n",
      " [9.99810959e-01 1.89040838e-04]\n",
      " [9.99997917e-01 2.08331999e-06]\n",
      " [9.99991437e-01 8.56322828e-06]\n",
      " [9.99970880e-01 2.91195825e-05]\n",
      " [9.99584333e-01 4.15667421e-04]\n",
      " [9.99956777e-01 4.32232720e-05]\n",
      " [5.30764449e-01 4.69235551e-01]\n",
      " [3.11387369e-02 9.68861263e-01]\n",
      " [9.99971087e-01 2.89126566e-05]\n",
      " [9.99979043e-01 2.09570960e-05]\n",
      " [9.99764705e-01 2.35295286e-04]\n",
      " [9.99903931e-01 9.60689765e-05]\n",
      " [9.93594224e-01 6.40577570e-03]\n",
      " [8.82822791e-01 1.17177209e-01]\n",
      " [9.99917889e-01 8.21111154e-05]\n",
      " [9.99987650e-01 1.23502563e-05]\n",
      " [9.99999226e-01 7.73910011e-07]\n",
      " [9.99998665e-01 1.33451165e-06]\n",
      " [9.76213170e-01 2.37868301e-02]\n",
      " [9.99639192e-01 3.60808339e-04]\n",
      " [9.99993247e-01 6.75336108e-06]\n",
      " [9.99956389e-01 4.36111705e-05]\n",
      " [9.99985476e-01 1.45243114e-05]\n",
      " [9.99999901e-01 9.92875857e-08]\n",
      " [9.99965891e-01 3.41090956e-05]\n",
      " [9.98651282e-01 1.34871777e-03]\n",
      " [9.99955565e-01 4.44350955e-05]\n",
      " [9.99999915e-01 8.51304455e-08]\n",
      " [9.99973880e-01 2.61201295e-05]\n",
      " [9.99982809e-01 1.71905950e-05]\n",
      " [9.96853106e-01 3.14689381e-03]\n",
      " [9.99984697e-01 1.53029545e-05]\n",
      " [9.99998748e-01 1.25192407e-06]\n",
      " [9.99997069e-01 2.93148406e-06]\n",
      " [9.99971812e-01 2.81879073e-05]\n",
      " [9.99989791e-01 1.02085478e-05]\n",
      " [9.99875254e-01 1.24746332e-04]\n",
      " [9.99996270e-01 3.73024625e-06]\n",
      " [9.99998237e-01 1.76269329e-06]\n",
      " [9.99992880e-01 7.12003622e-06]\n",
      " [9.99969772e-01 3.02284920e-05]\n",
      " [9.99996964e-01 3.03641001e-06]\n",
      " [8.15658475e-03 9.91843415e-01]\n",
      " [9.99821618e-01 1.78382010e-04]\n",
      " [9.99917664e-01 8.23364528e-05]\n",
      " [9.99989027e-01 1.09725113e-05]\n",
      " [6.90376272e-01 3.09623728e-01]\n",
      " [9.91869839e-01 8.13016108e-03]\n",
      " [9.99996157e-01 3.84277546e-06]\n",
      " [9.99699139e-01 3.00860660e-04]\n",
      " [9.99992253e-01 7.74651045e-06]\n",
      " [9.99987140e-01 1.28604096e-05]\n",
      " [9.99991411e-01 8.58945562e-06]\n",
      " [9.99786306e-01 2.13694090e-04]\n",
      " [9.99999691e-01 3.09219552e-07]\n",
      " [9.99792218e-01 2.07781924e-04]\n",
      " [9.99917549e-01 8.24511831e-05]\n",
      " [9.99977751e-01 2.22493807e-05]\n",
      " [9.92013904e-01 7.98609646e-03]\n",
      " [9.99997274e-01 2.72587835e-06]\n",
      " [9.99999087e-01 9.13388095e-07]\n",
      " [9.99990424e-01 9.57622468e-06]\n",
      " [9.99951744e-01 4.82555169e-05]\n",
      " [9.99791426e-01 2.08573542e-04]\n",
      " [9.98280454e-01 1.71954626e-03]\n",
      " [9.99993211e-01 6.78853985e-06]\n",
      " [9.99990333e-01 9.66694060e-06]\n",
      " [9.99993569e-01 6.43141616e-06]\n",
      " [9.99914800e-01 8.52004727e-05]\n",
      " [9.99989199e-01 1.08005039e-05]\n",
      " [9.99996340e-01 3.65954569e-06]\n",
      " [9.99993371e-01 6.62924447e-06]\n",
      " [9.99992155e-01 7.84507104e-06]\n",
      " [9.99999145e-01 8.54787997e-07]\n",
      " [9.99945770e-01 5.42295635e-05]\n",
      " [9.99958031e-01 4.19685271e-05]\n",
      " [9.99998267e-01 1.73304946e-06]\n",
      " [9.99651630e-01 3.48370317e-04]\n",
      " [9.99961664e-01 3.83359594e-05]\n",
      " [9.99980480e-01 1.95203505e-05]\n",
      " [9.99952556e-01 4.74440417e-05]\n",
      " [9.99993556e-01 6.44439359e-06]\n",
      " [9.99999983e-01 1.74652674e-08]\n",
      " [9.99985024e-01 1.49757605e-05]\n",
      " [9.99945710e-01 5.42902068e-05]\n",
      " [9.99893086e-01 1.06914482e-04]\n",
      " [9.99999293e-01 7.06672577e-07]\n",
      " [9.99955665e-01 4.43347701e-05]\n",
      " [9.99622269e-01 3.77731451e-04]\n",
      " [9.99997025e-01 2.97490337e-06]\n",
      " [9.99992923e-01 7.07744202e-06]\n",
      " [9.99957926e-01 4.20739075e-05]\n",
      " [9.99999843e-01 1.57469469e-07]\n",
      " [9.99991555e-01 8.44486735e-06]\n",
      " [9.99814089e-01 1.85910877e-04]\n",
      " [9.97024605e-01 2.97539550e-03]\n",
      " [9.99999452e-01 5.48080069e-07]\n",
      " [9.99234225e-01 7.65774770e-04]\n",
      " [9.99974912e-01 2.50882656e-05]\n",
      " [9.99997662e-01 2.33816584e-06]\n",
      " [9.99999259e-01 7.41057551e-07]\n",
      " [9.99996947e-01 3.05337756e-06]\n",
      " [9.99944052e-01 5.59478808e-05]\n",
      " [9.99971581e-01 2.84194236e-05]\n",
      " [9.99998085e-01 1.91481801e-06]\n",
      " [9.99988563e-01 1.14373184e-05]\n",
      " [9.99999629e-01 3.71366098e-07]\n",
      " [9.99997741e-01 2.25851936e-06]\n",
      " [9.99975719e-01 2.42810098e-05]\n",
      " [9.99805469e-01 1.94531350e-04]\n",
      " [9.99999471e-01 5.28545859e-07]\n",
      " [9.98555673e-01 1.44432671e-03]\n",
      " [9.99516183e-01 4.83817499e-04]\n",
      " [9.99974021e-01 2.59791305e-05]\n",
      " [9.99989267e-01 1.07328120e-05]\n",
      " [8.61568625e-01 1.38431375e-01]\n",
      " [9.99988449e-01 1.15511072e-05]\n",
      " [9.99864095e-01 1.35904538e-04]\n",
      " [9.99997055e-01 2.94508333e-06]\n",
      " [9.99032326e-01 9.67674418e-04]\n",
      " [9.99999259e-01 7.41307602e-07]\n",
      " [8.89177161e-01 1.10822839e-01]\n",
      " [9.99983517e-01 1.64826970e-05]\n",
      " [9.99948425e-01 5.15751384e-05]\n",
      " [9.99983202e-01 1.67975516e-05]\n",
      " [8.32232062e-01 1.67767938e-01]\n",
      " [9.99993152e-01 6.84787120e-06]\n",
      " [9.99994094e-01 5.90566444e-06]\n",
      " [9.99985580e-01 1.44199892e-05]\n",
      " [9.99952223e-01 4.77771446e-05]\n",
      " [9.99410526e-01 5.89473694e-04]\n",
      " [9.90722839e-01 9.27716118e-03]\n",
      " [9.99984515e-01 1.54850929e-05]\n",
      " [3.67928302e-01 6.32071698e-01]\n",
      " [9.99904085e-01 9.59153063e-05]\n",
      " [9.99962060e-01 3.79403527e-05]\n",
      " [8.99445372e-01 1.00554628e-01]\n",
      " [9.99989663e-01 1.03372233e-05]\n",
      " [9.99995092e-01 4.90758878e-06]\n",
      " [9.99972564e-01 2.74358396e-05]\n",
      " [9.99961322e-01 3.86781854e-05]\n",
      " [8.70360032e-01 1.29639968e-01]\n",
      " [6.41243280e-01 3.58756720e-01]\n",
      " [9.99913353e-01 8.66474409e-05]\n",
      " [9.99992349e-01 7.65112070e-06]\n",
      " [9.99996239e-01 3.76123201e-06]\n",
      " [1.64134143e-03 9.98358659e-01]\n",
      " [9.99993040e-01 6.95978504e-06]\n",
      " [9.99998859e-01 1.14082498e-06]\n",
      " [9.99987371e-01 1.26294898e-05]\n",
      " [9.99968779e-01 3.12210642e-05]\n",
      " [9.97930989e-01 2.06901104e-03]\n",
      " [9.99979386e-01 2.06144683e-05]\n",
      " [9.99985903e-01 1.40970751e-05]\n",
      " [9.99999570e-01 4.29879393e-07]\n",
      " [9.99943135e-01 5.68650920e-05]\n",
      " [9.99985599e-01 1.44007699e-05]\n",
      " [9.99999742e-01 2.58298415e-07]\n",
      " [9.96389833e-01 3.61016719e-03]\n",
      " [9.99986803e-01 1.31969124e-05]\n",
      " [9.99895276e-01 1.04723838e-04]\n",
      " [9.99991241e-01 8.75851808e-06]\n",
      " [9.99995346e-01 4.65390816e-06]\n",
      " [9.99993133e-01 6.86717646e-06]\n",
      " [9.99567507e-01 4.32493426e-04]\n",
      " [9.99977081e-01 2.29194527e-05]\n",
      " [9.99796318e-01 2.03682320e-04]\n",
      " [9.99256191e-01 7.43809470e-04]\n",
      " [9.99990221e-01 9.77945503e-06]\n",
      " [9.91992938e-01 8.00706172e-03]\n",
      " [9.99998883e-01 1.11706177e-06]\n",
      " [9.99990899e-01 9.10134713e-06]\n",
      " [9.98380271e-01 1.61972942e-03]\n",
      " [9.99985379e-01 1.46209186e-05]\n",
      " [9.99998713e-01 1.28676982e-06]\n",
      " [9.99989767e-01 1.02327095e-05]\n",
      " [9.99980329e-01 1.96711704e-05]\n",
      " [9.95597601e-01 4.40239926e-03]\n",
      " [4.80146190e-04 9.99519854e-01]\n",
      " [9.99966663e-01 3.33366635e-05]\n",
      " [9.99909730e-01 9.02702283e-05]\n",
      " [9.99995770e-01 4.23001393e-06]\n",
      " [9.99977618e-01 2.23817630e-05]\n",
      " [9.99998004e-01 1.99593434e-06]\n",
      " [9.99997955e-01 2.04548959e-06]\n",
      " [9.99977749e-01 2.22508890e-05]\n",
      " [9.99989896e-01 1.01044561e-05]\n",
      " [9.99998604e-01 1.39571009e-06]\n",
      " [9.99983061e-01 1.69389108e-05]\n",
      " [9.99955992e-01 4.40081097e-05]\n",
      " [9.96022720e-01 3.97727961e-03]\n",
      " [9.99997301e-01 2.69922905e-06]\n",
      " [9.98782672e-01 1.21732800e-03]\n",
      " [9.96168767e-01 3.83123306e-03]\n",
      " [9.99906418e-01 9.35822908e-05]\n",
      " [9.99051641e-01 9.48359351e-04]\n",
      " [9.99993194e-01 6.80588633e-06]\n",
      " [9.99340372e-01 6.59628388e-04]\n",
      " [9.17540567e-01 8.24594327e-02]\n",
      " [9.99998224e-01 1.77640070e-06]\n",
      " [9.99990554e-01 9.44620449e-06]\n",
      " [9.84862492e-01 1.51375085e-02]\n",
      " [9.99999431e-01 5.69031324e-07]\n",
      " [9.99705617e-01 2.94382869e-04]\n",
      " [9.99997522e-01 2.47777816e-06]\n",
      " [9.99856789e-01 1.43210688e-04]\n",
      " [9.99984896e-01 1.51044631e-05]\n",
      " [9.99999590e-01 4.10063845e-07]\n",
      " [9.99999142e-01 8.58200031e-07]]\n",
      "[0 0 0 1 0 0 0 0 0 0 0 0 0 0 0 0 0 0 0 0 0 0 0 0 0 0 0 1 0 0 0 0 0 0 0 0 1\n",
      " 0 0 0 0 0 0 1 0 0 0 0 0 0 0 0 0 0 0 0 0 0 0 0 0 0 0 0 0 0 0 0 0 0 0 0 0 0\n",
      " 0 0 0 0 0 0 0 0 0 0 0 0 0 0 0 0 0 0 1 0 0 0 0 0 0 0 0 0 0 0 0 0 0 0 0 0 0\n",
      " 0 0 0 0 0 0 0 0 0 0 1 0 0 0 0 0 0 0 0 0 0 0 0 0 0 0 0 0 0 0 0 0 0 1 0 0 0\n",
      " 0 0 0 0 0 0 1 0 0 0 0 0 0 0 0 0 0 0 0 0 0 0 0 0 0 0 0 0 0 0 0 0 0 0 0 0 0\n",
      " 0 0 0 0 1 0 0 0 0 0 0 0 0 0 0 0 0 0 0 0 0 0 0 0 0 0 0 0 0 0 0 0 0 0 0 0 0\n",
      " 0 0 0 0 0 0 0 0 0 0 0 0 0 0 0 0 0 0 0 0 0 0 0 0 0 0 0 0 0 0 0 0 0 0 0 0 0\n",
      " 0 0 0 0 0 0 0 0 0 0 0 0 0 0 0 0 0 0 0 0 0 1 0 0 0 0 0 0 0 0 0 0 0 0 1 0 0\n",
      " 0 0 0 0 0 0 0 0 0 0 0 0 0 0 0 0 0 0 0 0 0 0 0 0 0 0 0 0 0 1 0 0 0 0 0 0 0\n",
      " 0 0 0 0 0 0 0 0 0 0 0 0 0 0 0 0 0 0 0 0 0 0 0]\n",
      "0.9943820224719101\n"
     ]
    }
   ],
   "source": [
    "from sklearn.neural_network import MLPClassifier\n",
    "from sklearn.datasets import make_classification\n",
    "from sklearn.model_selection import train_test_split\n",
    "mvp_hist = mvp_hist.fillna(0)\n",
    "X_mvp = mvp_hist[[\"Age\", \"PTS\", \"TRB\", \"AST\", \"STL\", \"BLK\", \"FG%\", \"3P%\", \"FT%\"]]\n",
    "y_df=pd.get_dummies(mvp_hist[\"MVP\"], drop_first=True)\n",
    "#print(y_df)\n",
    "y_mvp = y_df[\"Y\"].values.reshape(-1,1)\n",
    "X_mvp_train, X_mvp_test, y_mvp_train, y_mvp_test = train_test_split(X_mvp, y_mvp, random_state=42)\n",
    "clf = MLPClassifier(random_state=1, max_iter=300).fit(X_mvp_train, y_mvp_train)\n",
    "mvp_prob=clf.predict_proba(X_mvp_test)\n",
    "mvp_predict=clf.predict(X_mvp_test)\n",
    "mvp_score=clf.score(X_mvp_test, y_mvp_test)\n",
    "print(mvp_prob)\n",
    "print(mvp_predict)\n",
    "print(mvp_score)\n"
   ]
  },
  {
   "cell_type": "code",
   "execution_count": 28,
   "metadata": {},
   "outputs": [
    {
     "data": {
      "text/html": "<div>\n<style scoped>\n    .dataframe tbody tr th:only-of-type {\n        vertical-align: middle;\n    }\n\n    .dataframe tbody tr th {\n        vertical-align: top;\n    }\n\n    .dataframe thead th {\n        text-align: right;\n    }\n</style>\n<table border=\"1\" class=\"dataframe\">\n  <thead>\n    <tr style=\"text-align: right;\">\n      <th></th>\n      <th>Rk</th>\n      <th>Player</th>\n      <th>Pos</th>\n      <th>Age</th>\n      <th>Tm</th>\n      <th>G</th>\n      <th>GS</th>\n      <th>MP</th>\n      <th>FG</th>\n      <th>FGA</th>\n      <th>...</th>\n      <th>FT%</th>\n      <th>ORB</th>\n      <th>DRB</th>\n      <th>TRB</th>\n      <th>AST</th>\n      <th>STL</th>\n      <th>BLK</th>\n      <th>TOV</th>\n      <th>PF</th>\n      <th>PTS</th>\n    </tr>\n  </thead>\n  <tbody>\n    <tr>\n      <th>0</th>\n      <td>1</td>\n      <td>Precious Achiuwa\\achiupr01</td>\n      <td>PF</td>\n      <td>21</td>\n      <td>MIA</td>\n      <td>35</td>\n      <td>2</td>\n      <td>14.0</td>\n      <td>2.4</td>\n      <td>4.1</td>\n      <td>...</td>\n      <td>0.543</td>\n      <td>1.3</td>\n      <td>2.7</td>\n      <td>4.0</td>\n      <td>0.6</td>\n      <td>0.4</td>\n      <td>0.5</td>\n      <td>0.9</td>\n      <td>1.7</td>\n      <td>6.1</td>\n    </tr>\n    <tr>\n      <th>1</th>\n      <td>2</td>\n      <td>Jaylen Adams\\adamsja01</td>\n      <td>PG</td>\n      <td>24</td>\n      <td>MIL</td>\n      <td>7</td>\n      <td>0</td>\n      <td>2.6</td>\n      <td>0.1</td>\n      <td>1.1</td>\n      <td>...</td>\n      <td>NaN</td>\n      <td>0.0</td>\n      <td>0.4</td>\n      <td>0.4</td>\n      <td>0.3</td>\n      <td>0.0</td>\n      <td>0.0</td>\n      <td>0.0</td>\n      <td>0.1</td>\n      <td>0.3</td>\n    </tr>\n    <tr>\n      <th>2</th>\n      <td>3</td>\n      <td>Steven Adams\\adamsst01</td>\n      <td>C</td>\n      <td>27</td>\n      <td>NOP</td>\n      <td>33</td>\n      <td>33</td>\n      <td>27.8</td>\n      <td>3.5</td>\n      <td>5.7</td>\n      <td>...</td>\n      <td>0.443</td>\n      <td>4.0</td>\n      <td>4.9</td>\n      <td>8.9</td>\n      <td>2.1</td>\n      <td>0.9</td>\n      <td>0.6</td>\n      <td>1.5</td>\n      <td>1.9</td>\n      <td>8.0</td>\n    </tr>\n    <tr>\n      <th>3</th>\n      <td>4</td>\n      <td>Bam Adebayo\\adebaba01</td>\n      <td>C</td>\n      <td>23</td>\n      <td>MIA</td>\n      <td>33</td>\n      <td>33</td>\n      <td>33.9</td>\n      <td>7.2</td>\n      <td>12.7</td>\n      <td>...</td>\n      <td>0.847</td>\n      <td>2.2</td>\n      <td>7.3</td>\n      <td>9.5</td>\n      <td>5.4</td>\n      <td>0.9</td>\n      <td>1.0</td>\n      <td>3.0</td>\n      <td>2.4</td>\n      <td>19.2</td>\n    </tr>\n    <tr>\n      <th>4</th>\n      <td>5</td>\n      <td>LaMarcus Aldridge\\aldrila01</td>\n      <td>C</td>\n      <td>35</td>\n      <td>SAS</td>\n      <td>21</td>\n      <td>18</td>\n      <td>25.9</td>\n      <td>5.5</td>\n      <td>11.8</td>\n      <td>...</td>\n      <td>0.838</td>\n      <td>0.8</td>\n      <td>3.7</td>\n      <td>4.5</td>\n      <td>1.7</td>\n      <td>0.4</td>\n      <td>0.9</td>\n      <td>1.0</td>\n      <td>1.7</td>\n      <td>13.7</td>\n    </tr>\n  </tbody>\n</table>\n<p>5 rows × 30 columns</p>\n</div>",
      "text/plain": "   Rk                       Player Pos  Age   Tm   G  GS    MP   FG   FGA  \\\n0   1   Precious Achiuwa\\achiupr01  PF   21  MIA  35   2  14.0  2.4   4.1   \n1   2       Jaylen Adams\\adamsja01  PG   24  MIL   7   0   2.6  0.1   1.1   \n2   3       Steven Adams\\adamsst01   C   27  NOP  33  33  27.8  3.5   5.7   \n3   4        Bam Adebayo\\adebaba01   C   23  MIA  33  33  33.9  7.2  12.7   \n4   5  LaMarcus Aldridge\\aldrila01   C   35  SAS  21  18  25.9  5.5  11.8   \n\n   ...    FT%  ORB  DRB  TRB  AST  STL  BLK  TOV   PF   PTS  \n0  ...  0.543  1.3  2.7  4.0  0.6  0.4  0.5  0.9  1.7   6.1  \n1  ...    NaN  0.0  0.4  0.4  0.3  0.0  0.0  0.0  0.1   0.3  \n2  ...  0.443  4.0  4.9  8.9  2.1  0.9  0.6  1.5  1.9   8.0  \n3  ...  0.847  2.2  7.3  9.5  5.4  0.9  1.0  3.0  2.4  19.2  \n4  ...  0.838  0.8  3.7  4.5  1.7  0.4  0.9  1.0  1.7  13.7  \n\n[5 rows x 30 columns]"
     },
     "execution_count": 28,
     "metadata": {},
     "output_type": "execute_result"
    }
   ],
   "source": [
    "current_year = pd.read_csv(\"Data/Current_Season_Stats.csv\")\n",
    "current_year.head()"
   ]
  },
  {
   "cell_type": "code",
   "execution_count": 29,
   "metadata": {},
   "outputs": [],
   "source": [
    "clean_stats = current_year[[\"Age\", \"PTS\", \"TRB\", \"AST\", \"STL\", \"BLK\", \"FG%\", \"3P%\", \"FT%\"]]\n",
    "clean_stats = clean_stats.fillna(0)"
   ]
  },
  {
   "cell_type": "code",
   "execution_count": 30,
   "metadata": {},
   "outputs": [
    {
     "name": "stdout",
     "output_type": "stream",
     "text": [
      "[0 0 0 0 0 0 0 0 0 0 0 0 0 1 0 0 0 0 0 0 0 0 0 0 0 0 0 0 0 0 0 0 0 0 0 0 0\n",
      " 0 0 0 0 0 0 0 0 0 0 0 0 0 0 0 0 0 0 0 0 0 0 0 0 0 0 0 0 0 0 0 0 0 0 0 0 0\n",
      " 0 0 0 0 0 0 0 0 0 0 0 0 0 0 0 0 0 0 0 0 0 0 0 0 0 0 0 0 0 0 0 0 0 0 0 0 0\n",
      " 0 0 0 0 0 0 0 0 0 0 0 0 0 0 0 0 0 0 0 0 0 0 0 0 0 0 0 0 0 0 0 0 0 0 0 0 0\n",
      " 0 0 0 0 0 0 0 0 0 0 0 0 0 0 0 0 0 0 0 0 0 0 0 0 0 0 0 0 0 0 0 0 0 0 0 0 0\n",
      " 0 0 0 0 0 0 0 0 0 0 0 0 0 0 0 0 0 0 0 0 0 0 0 0 0 0 0 0 0 0 0 0 0 0 0 0 0\n",
      " 0 0 0 0 0 0 0 0 0 0 0 0 0 0 0 0 0 0 1 0 0 0 0 0 0 0 0 0 0 0 0 0 0 0 0 0 0\n",
      " 0 0 0 0 0 0 0 0 0 0 0 0 0 0 0 0 0 0 0 0 0 0 0 0 0 0 0 0 0 0 0 0 0 0 0 0 0\n",
      " 0 0 0 0 0 0 0 0 0 0 0 0 0 0 0 0 0 0 0 0 0 0 0 0 0 0 0 0 0 0 0 0 0 0 0 0 0\n",
      " 0 0 0 0 0 0 0 0 0 0 0 0 0 0 0 0 0 0 0 0 0 0 0 0 0 0 0 0 0 0 0 0 0 0 0 0 0\n",
      " 0 0 0 0 0 0 0 0 0 0 0 0 0 0 0 0 0 0 0 0 0 0 0 0 0 0 0 0 0 0 0 0 0 0 0 0 0\n",
      " 0 0 0 0 0 0 0 0 0 0 0 0 0 0 0 0 0 0 0 0 0 0 0 0 0 0 0 0 0 0 0 0 0 0 0 0 0\n",
      " 0 0 0 0 0 0 0 0 0 0 0 0 0 0 0 0 0 0 0 0 0 0 0 0 0 0 0 0 0 0 0 0 0 0 0 0 0\n",
      " 0 0 0 0 0 0 0 0 0 0 0 0 0 0 0 0 0 0 0 0 0 0 0 0 0 0 0 0 0 0 0]\n"
     ]
    }
   ],
   "source": [
    "mvp_21_prediction = clf.predict(clean_stats)\n",
    "print(mvp_21_prediction)"
   ]
  },
  {
   "cell_type": "code",
   "execution_count": 31,
   "metadata": {},
   "outputs": [
    {
     "name": "stdout",
     "output_type": "stream",
     "text": [
      "[[9.99913339e-01 8.66612303e-05]\n",
      " [9.99979626e-01 2.03739238e-05]\n",
      " [9.99860144e-01 1.39856416e-04]\n",
      " ...\n",
      " [7.44486018e-01 2.55513982e-01]\n",
      " [9.99934163e-01 6.58372424e-05]\n",
      " [9.99910069e-01 8.99306082e-05]]\n"
     ]
    },
    {
     "data": {
      "text/html": "<div>\n<style scoped>\n    .dataframe tbody tr th:only-of-type {\n        vertical-align: middle;\n    }\n\n    .dataframe tbody tr th {\n        vertical-align: top;\n    }\n\n    .dataframe thead th {\n        text-align: right;\n    }\n</style>\n<table border=\"1\" class=\"dataframe\">\n  <thead>\n    <tr style=\"text-align: right;\">\n      <th></th>\n      <th>Player</th>\n      <th>prediction</th>\n      <th>mvp prob</th>\n    </tr>\n  </thead>\n  <tbody>\n    <tr>\n      <th>0</th>\n      <td>Precious Achiuwa\\achiupr01</td>\n      <td>0</td>\n      <td>0.000087</td>\n    </tr>\n    <tr>\n      <th>1</th>\n      <td>Jaylen Adams\\adamsja01</td>\n      <td>0</td>\n      <td>0.000020</td>\n    </tr>\n    <tr>\n      <th>2</th>\n      <td>Steven Adams\\adamsst01</td>\n      <td>0</td>\n      <td>0.000140</td>\n    </tr>\n    <tr>\n      <th>3</th>\n      <td>Bam Adebayo\\adebaba01</td>\n      <td>0</td>\n      <td>0.148121</td>\n    </tr>\n    <tr>\n      <th>4</th>\n      <td>LaMarcus Aldridge\\aldrila01</td>\n      <td>0</td>\n      <td>0.000009</td>\n    </tr>\n    <tr>\n      <th>...</th>\n      <td>...</td>\n      <td>...</td>\n      <td>...</td>\n    </tr>\n    <tr>\n      <th>507</th>\n      <td>Delon Wright\\wrighde01</td>\n      <td>0</td>\n      <td>0.000512</td>\n    </tr>\n    <tr>\n      <th>508</th>\n      <td>Thaddeus Young\\youngth01</td>\n      <td>0</td>\n      <td>0.000355</td>\n    </tr>\n    <tr>\n      <th>509</th>\n      <td>Trae Young\\youngtr01</td>\n      <td>0</td>\n      <td>0.255514</td>\n    </tr>\n    <tr>\n      <th>510</th>\n      <td>Cody Zeller\\zelleco01</td>\n      <td>0</td>\n      <td>0.000066</td>\n    </tr>\n    <tr>\n      <th>511</th>\n      <td>Ivica Zubac\\zubaciv01</td>\n      <td>0</td>\n      <td>0.000090</td>\n    </tr>\n  </tbody>\n</table>\n<p>512 rows × 3 columns</p>\n</div>",
      "text/plain": "                          Player  prediction  mvp prob\n0     Precious Achiuwa\\achiupr01           0  0.000087\n1         Jaylen Adams\\adamsja01           0  0.000020\n2         Steven Adams\\adamsst01           0  0.000140\n3          Bam Adebayo\\adebaba01           0  0.148121\n4    LaMarcus Aldridge\\aldrila01           0  0.000009\n..                           ...         ...       ...\n507       Delon Wright\\wrighde01           0  0.000512\n508     Thaddeus Young\\youngth01           0  0.000355\n509         Trae Young\\youngtr01           0  0.255514\n510        Cody Zeller\\zelleco01           0  0.000066\n511        Ivica Zubac\\zubaciv01           0  0.000090\n\n[512 rows x 3 columns]"
     },
     "execution_count": 31,
     "metadata": {},
     "output_type": "execute_result"
    }
   ],
   "source": [
    "mvp_prob=clf.predict_proba(clean_stats)\n",
    "print(mvp_prob)\n",
    "y_probability=[]\n",
    "n_probability=[]\n",
    "for prob in mvp_prob:\n",
    "    y_probability.append(prob[1])\n",
    "    n_probability.append(prob[0])\n",
    "players = current_year[\"Player\"].tolist()\n",
    "df=pd.DataFrame({\"Player\": players, \"prediction\": mvp_21_prediction, \"mvp prob\": y_probability})\n",
    "df"
   ]
  },
  {
   "cell_type": "code",
   "execution_count": 32,
   "metadata": {},
   "outputs": [],
   "source": [
    "df=df.sort_values(by=[\"mvp prob\"],ascending=False)\n",
    "df[\"mvp prob\"] = df[\"mvp prob\"].map(lambda x: round(x * 100, 2))\n",
    "df\n",
    "df.to_csv(\"Data/MVP_prediction.csv\")"
   ]
  },
  {
   "cell_type": "code",
   "execution_count": null,
   "metadata": {},
   "outputs": [],
   "source": []
  },
  {
   "cell_type": "code",
   "execution_count": 33,
   "metadata": {},
   "outputs": [
    {
     "data": {
      "text/html": "<div>\n<style scoped>\n    .dataframe tbody tr th:only-of-type {\n        vertical-align: middle;\n    }\n\n    .dataframe tbody tr th {\n        vertical-align: top;\n    }\n\n    .dataframe thead th {\n        text-align: right;\n    }\n</style>\n<table border=\"1\" class=\"dataframe\">\n  <thead>\n    <tr style=\"text-align: right;\">\n      <th></th>\n      <th>Player</th>\n      <th>MP</th>\n      <th>PTS</th>\n      <th>TRB</th>\n      <th>AST</th>\n      <th>ROY</th>\n    </tr>\n  </thead>\n  <tbody>\n    <tr>\n      <th>0</th>\n      <td>Ja Morant\\moranja01</td>\n      <td>31.0</td>\n      <td>17.8</td>\n      <td>3.9</td>\n      <td>7.3</td>\n      <td>Y</td>\n    </tr>\n    <tr>\n      <th>1</th>\n      <td>Luka Dončić\\doncilu01</td>\n      <td>32.2</td>\n      <td>21.2</td>\n      <td>7.8</td>\n      <td>6.0</td>\n      <td>Y</td>\n    </tr>\n    <tr>\n      <th>2</th>\n      <td>Ben Simmons\\simmobe01</td>\n      <td>33.7</td>\n      <td>15.8</td>\n      <td>8.1</td>\n      <td>8.2</td>\n      <td>Y</td>\n    </tr>\n    <tr>\n      <th>3</th>\n      <td>Malcolm Brogdon\\brogdma01</td>\n      <td>26.4</td>\n      <td>10.2</td>\n      <td>2.8</td>\n      <td>4.2</td>\n      <td>Y</td>\n    </tr>\n    <tr>\n      <th>4</th>\n      <td>Karl-Anthony Towns\\townska01</td>\n      <td>32.0</td>\n      <td>18.3</td>\n      <td>10.5</td>\n      <td>2.0</td>\n      <td>Y</td>\n    </tr>\n  </tbody>\n</table>\n</div>",
      "text/plain": "                         Player    MP   PTS   TRB  AST ROY\n0           Ja Morant\\moranja01  31.0  17.8   3.9  7.3   Y\n1         Luka Dončić\\doncilu01  32.2  21.2   7.8  6.0   Y\n2         Ben Simmons\\simmobe01  33.7  15.8   8.1  8.2   Y\n3     Malcolm Brogdon\\brogdma01  26.4  10.2   2.8  4.2   Y\n4  Karl-Anthony Towns\\townska01  32.0  18.3  10.5  2.0   Y"
     },
     "execution_count": 33,
     "metadata": {},
     "output_type": "execute_result"
    }
   ],
   "source": [
    "roy_hist = pd.read_csv(\"Data/Rookies of the year.csv\")\n",
    "roy_hist.head()"
   ]
  },
  {
   "cell_type": "code",
   "execution_count": 34,
   "metadata": {},
   "outputs": [
    {
     "name": "stdout",
     "output_type": "stream",
     "text": [
      "[[0.9702887  0.0297113 ]\n",
      " [0.82387247 0.17612753]\n",
      " [0.99619147 0.00380853]\n",
      " [0.01446944 0.98553056]\n",
      " [0.98761553 0.01238447]\n",
      " [0.75014395 0.24985605]\n",
      " [0.97642097 0.02357903]\n",
      " [0.99413094 0.00586906]\n",
      " [0.73584234 0.26415766]\n",
      " [0.97390441 0.02609559]\n",
      " [0.87045712 0.12954288]\n",
      " [0.99611339 0.00388661]\n",
      " [0.59254537 0.40745463]\n",
      " [0.93785065 0.06214935]\n",
      " [0.05045653 0.94954347]\n",
      " [0.05291391 0.94708609]\n",
      " [0.92693458 0.07306542]\n",
      " [0.99509212 0.00490788]\n",
      " [0.00214909 0.99785091]\n",
      " [0.99564522 0.00435478]\n",
      " [0.9851349  0.0148651 ]\n",
      " [0.98940244 0.01059756]\n",
      " [0.98210544 0.01789456]\n",
      " [0.04719097 0.95280903]\n",
      " [0.02675253 0.97324747]\n",
      " [0.97288842 0.02711158]\n",
      " [0.99282539 0.00717461]\n",
      " [0.9958973  0.0041027 ]\n",
      " [0.99083326 0.00916674]\n",
      " [0.98068058 0.01931942]\n",
      " [0.49696454 0.50303546]\n",
      " [0.98710056 0.01289944]\n",
      " [0.146036   0.853964  ]\n",
      " [0.08424993 0.91575007]\n",
      " [0.22744179 0.77255821]\n",
      " [0.24601035 0.75398965]\n",
      " [0.99599844 0.00400156]\n",
      " [0.99480394 0.00519606]\n",
      " [0.88584023 0.11415977]\n",
      " [0.88364437 0.11635563]\n",
      " [0.41033562 0.58966438]\n",
      " [0.99578524 0.00421476]\n",
      " [0.95248803 0.04751197]\n",
      " [0.76947403 0.23052597]\n",
      " [0.96924055 0.03075945]\n",
      " [0.99331483 0.00668517]\n",
      " [0.99211392 0.00788608]\n",
      " [0.98836531 0.01163469]\n",
      " [0.99286311 0.00713689]\n",
      " [0.97205727 0.02794273]\n",
      " [0.99351611 0.00648389]\n",
      " [0.99129849 0.00870151]\n",
      " [0.51182212 0.48817788]\n",
      " [0.98473154 0.01526846]\n",
      " [0.98750382 0.01249618]\n",
      " [0.16386387 0.83613613]\n",
      " [0.9956675  0.0043325 ]\n",
      " [0.04337983 0.95662017]\n",
      " [0.99151626 0.00848374]\n",
      " [0.01104718 0.98895282]\n",
      " [0.10133812 0.89866188]\n",
      " [0.96602652 0.03397348]\n",
      " [0.97933977 0.02066023]\n",
      " [0.99361886 0.00638114]\n",
      " [0.04219168 0.95780832]\n",
      " [0.40085218 0.59914782]\n",
      " [0.99483423 0.00516577]\n",
      " [0.29180797 0.70819203]\n",
      " [0.99555162 0.00444838]\n",
      " [0.98840659 0.01159341]\n",
      " [0.94788941 0.05211059]\n",
      " [0.99629851 0.00370149]\n",
      " [0.99462375 0.00537625]\n",
      " [0.97164594 0.02835406]\n",
      " [0.61614978 0.38385022]]\n",
      "[0 0 0 1 0 0 0 0 0 0 0 0 0 0 1 1 0 0 1 0 0 0 0 1 1 0 0 0 0 0 1 0 1 1 1 1 0\n",
      " 0 0 0 1 0 0 0 0 0 0 0 0 0 0 0 0 0 0 1 0 1 0 1 1 0 0 0 1 1 0 1 0 0 0 0 0 0\n",
      " 0]\n",
      "0.9733333333333334\n"
     ]
    }
   ],
   "source": [
    "from sklearn.neural_network import MLPClassifier\n",
    "from sklearn.datasets import make_classification\n",
    "from sklearn.model_selection import train_test_split\n",
    "roy_hist = roy_hist.fillna(0)\n",
    "X_roy = roy_hist[[\"MP\", \"PTS\", \"TRB\", \"AST\"]]\n",
    "roy_y_df=pd.get_dummies(roy_hist[\"ROY\"], drop_first=True)\n",
    "#print(roy_y_df)\n",
    "y_roy = roy_y_df[\"Y\"].values.reshape(-1,1)\n",
    "X_roy_train, X_roy_test, y_roy_train, y_roy_test = train_test_split(X_roy, y_roy, random_state=42)\n",
    "clf = MLPClassifier(random_state=1, max_iter=300).fit(X_roy_train, y_roy_train)\n",
    "roy_prob=clf.predict_proba(X_roy_test)\n",
    "roy_predict=clf.predict(X_roy_test)\n",
    "roy_score=clf.score(X_roy_test, y_roy_test)\n",
    "print(roy_prob)\n",
    "print(roy_predict)\n",
    "print(roy_score)"
   ]
  },
  {
   "cell_type": "code",
   "execution_count": 35,
   "metadata": {},
   "outputs": [
    {
     "data": {
      "text/html": "<div>\n<style scoped>\n    .dataframe tbody tr th:only-of-type {\n        vertical-align: middle;\n    }\n\n    .dataframe tbody tr th {\n        vertical-align: top;\n    }\n\n    .dataframe thead th {\n        text-align: right;\n    }\n</style>\n<table border=\"1\" class=\"dataframe\">\n  <thead>\n    <tr style=\"text-align: right;\">\n      <th></th>\n      <th>Player</th>\n      <th>Age</th>\n      <th>Yrs</th>\n      <th>MP</th>\n      <th>PTS</th>\n      <th>TRB</th>\n      <th>AST</th>\n    </tr>\n  </thead>\n  <tbody>\n    <tr>\n      <th>0</th>\n      <td>Precious Achiuwa\\achiupr01</td>\n      <td>21</td>\n      <td>1</td>\n      <td>14.0</td>\n      <td>6.1</td>\n      <td>4.0</td>\n      <td>0.6</td>\n    </tr>\n    <tr>\n      <th>1</th>\n      <td>Ty-Shon Alexander\\alexaty01</td>\n      <td>22</td>\n      <td>1</td>\n      <td>2.7</td>\n      <td>0.0</td>\n      <td>0.3</td>\n      <td>0.3</td>\n    </tr>\n    <tr>\n      <th>2</th>\n      <td>Cole Anthony\\anthoco01</td>\n      <td>20</td>\n      <td>1</td>\n      <td>26.7</td>\n      <td>11.0</td>\n      <td>4.4</td>\n      <td>3.8</td>\n    </tr>\n    <tr>\n      <th>3</th>\n      <td>Deni Avdija\\avdijde01</td>\n      <td>20</td>\n      <td>1</td>\n      <td>21.5</td>\n      <td>5.9</td>\n      <td>4.7</td>\n      <td>1.3</td>\n    </tr>\n    <tr>\n      <th>4</th>\n      <td>Udoka Azubuike\\azubuud01</td>\n      <td>21</td>\n      <td>1</td>\n      <td>4.1</td>\n      <td>1.0</td>\n      <td>1.1</td>\n      <td>0.0</td>\n    </tr>\n  </tbody>\n</table>\n</div>",
      "text/plain": "                        Player  Age  Yrs    MP   PTS  TRB  AST\n0   Precious Achiuwa\\achiupr01   21    1  14.0   6.1  4.0  0.6\n1  Ty-Shon Alexander\\alexaty01   22    1   2.7   0.0  0.3  0.3\n2       Cole Anthony\\anthoco01   20    1  26.7  11.0  4.4  3.8\n3        Deni Avdija\\avdijde01   20    1  21.5   5.9  4.7  1.3\n4     Udoka Azubuike\\azubuud01   21    1   4.1   1.0  1.1  0.0"
     },
     "execution_count": 35,
     "metadata": {},
     "output_type": "execute_result"
    }
   ],
   "source": [
    "current_rookies=pd.read_csv(\"Data/current rookies.csv\")\n",
    "current_rookies.head()"
   ]
  },
  {
   "cell_type": "code",
   "execution_count": 36,
   "metadata": {},
   "outputs": [
    {
     "data": {
      "text/html": "<div>\n<style scoped>\n    .dataframe tbody tr th:only-of-type {\n        vertical-align: middle;\n    }\n\n    .dataframe tbody tr th {\n        vertical-align: top;\n    }\n\n    .dataframe thead th {\n        text-align: right;\n    }\n</style>\n<table border=\"1\" class=\"dataframe\">\n  <thead>\n    <tr style=\"text-align: right;\">\n      <th></th>\n      <th>MP</th>\n      <th>PTS</th>\n      <th>TRB</th>\n      <th>AST</th>\n    </tr>\n  </thead>\n  <tbody>\n    <tr>\n      <th>0</th>\n      <td>14.0</td>\n      <td>6.1</td>\n      <td>4.0</td>\n      <td>0.6</td>\n    </tr>\n    <tr>\n      <th>1</th>\n      <td>2.7</td>\n      <td>0.0</td>\n      <td>0.3</td>\n      <td>0.3</td>\n    </tr>\n    <tr>\n      <th>2</th>\n      <td>26.7</td>\n      <td>11.0</td>\n      <td>4.4</td>\n      <td>3.8</td>\n    </tr>\n    <tr>\n      <th>3</th>\n      <td>21.5</td>\n      <td>5.9</td>\n      <td>4.7</td>\n      <td>1.3</td>\n    </tr>\n    <tr>\n      <th>4</th>\n      <td>4.1</td>\n      <td>1.0</td>\n      <td>1.1</td>\n      <td>0.0</td>\n    </tr>\n    <tr>\n      <th>...</th>\n      <td>...</td>\n      <td>...</td>\n      <td>...</td>\n      <td>...</td>\n    </tr>\n    <tr>\n      <th>72</th>\n      <td>28.5</td>\n      <td>10.2</td>\n      <td>4.8</td>\n      <td>1.2</td>\n    </tr>\n    <tr>\n      <th>73</th>\n      <td>19.0</td>\n      <td>6.3</td>\n      <td>4.1</td>\n      <td>1.3</td>\n    </tr>\n    <tr>\n      <th>74</th>\n      <td>7.3</td>\n      <td>2.2</td>\n      <td>0.7</td>\n      <td>1.0</td>\n    </tr>\n    <tr>\n      <th>75</th>\n      <td>20.8</td>\n      <td>11.8</td>\n      <td>5.9</td>\n      <td>0.7</td>\n    </tr>\n    <tr>\n      <th>76</th>\n      <td>2.8</td>\n      <td>2.2</td>\n      <td>1.3</td>\n      <td>0.0</td>\n    </tr>\n  </tbody>\n</table>\n<p>77 rows × 4 columns</p>\n</div>",
      "text/plain": "      MP   PTS  TRB  AST\n0   14.0   6.1  4.0  0.6\n1    2.7   0.0  0.3  0.3\n2   26.7  11.0  4.4  3.8\n3   21.5   5.9  4.7  1.3\n4    4.1   1.0  1.1  0.0\n..   ...   ...  ...  ...\n72  28.5  10.2  4.8  1.2\n73  19.0   6.3  4.1  1.3\n74   7.3   2.2  0.7  1.0\n75  20.8  11.8  5.9  0.7\n76   2.8   2.2  1.3  0.0\n\n[77 rows x 4 columns]"
     },
     "execution_count": 36,
     "metadata": {},
     "output_type": "execute_result"
    }
   ],
   "source": [
    "clean_rookies = current_rookies[[\"MP\", \"PTS\", \"TRB\", \"AST\"]]\n",
    "clean_rookies = clean_rookies.fillna(0)\n",
    "clean_rookies"
   ]
  },
  {
   "cell_type": "code",
   "execution_count": 37,
   "metadata": {},
   "outputs": [
    {
     "name": "stdout",
     "output_type": "stream",
     "text": [
      "[0 0 0 0 0 1 0 0 0 0 0 0 0 0 0 0 0 0 0 0 1 0 0 0 0 0 0 0 0 0 0 0 0 0 0 0 0\n",
      " 0 0 0 0 0 0 0 0 0 0 0 0 0 0 0 0 0 0 0 0 0 0 0 0 0 0 0 0 0 0 0 0 0 0 0 0 0\n",
      " 0 0 0]\n"
     ]
    }
   ],
   "source": [
    "roy_21_prediction = clf.predict(clean_rookies)\n",
    "print(roy_21_prediction)"
   ]
  },
  {
   "cell_type": "code",
   "execution_count": 38,
   "metadata": {},
   "outputs": [
    {
     "name": "stdout",
     "output_type": "stream",
     "text": [
      "[[0.96629305 0.03370695]\n",
      " [0.99620721 0.00379279]\n",
      " [0.68484487 0.31515513]\n",
      " [0.95106955 0.04893045]\n",
      " [0.99614287 0.00385713]\n",
      " [0.16550808 0.83449192]\n",
      " [0.95062832 0.04937168]\n",
      " [0.92895526 0.07104474]\n",
      " [0.99636591 0.00363409]\n",
      " [0.99611122 0.00388878]\n",
      " [0.97697106 0.02302894]\n",
      " [0.99692775 0.00307225]\n",
      " [0.99369162 0.00630838]\n",
      " [0.73630594 0.26369406]\n",
      " [0.9943009  0.0056991 ]\n",
      " [0.99313762 0.00686238]\n",
      " [0.9960913  0.0039087 ]\n",
      " [0.99564381 0.00435619]\n",
      " [0.99088883 0.00911117]\n",
      " [0.99622656 0.00377344]\n",
      " [0.46088711 0.53911289]\n",
      " [0.99351307 0.00648693]\n",
      " [0.9926085  0.0073915 ]\n",
      " [0.99639825 0.00360175]\n",
      " [0.954643   0.045357  ]\n",
      " [0.99636248 0.00363752]\n",
      " [0.99622175 0.00377825]\n",
      " [0.99583735 0.00416265]\n",
      " [0.99013164 0.00986836]\n",
      " [0.97881296 0.02118704]\n",
      " [0.9963829  0.0036171 ]\n",
      " [0.99394605 0.00605395]\n",
      " [0.95864556 0.04135444]\n",
      " [0.98178037 0.01821963]\n",
      " [0.89728442 0.10271558]\n",
      " [0.99510706 0.00489294]\n",
      " [0.98024852 0.01975148]\n",
      " [0.99630667 0.00369333]\n",
      " [0.98823967 0.01176033]\n",
      " [0.9816466  0.0183534 ]\n",
      " [0.95679428 0.04320572]\n",
      " [0.99103015 0.00896985]\n",
      " [0.97697568 0.02302432]\n",
      " [0.99208207 0.00791793]\n",
      " [0.99468995 0.00531005]\n",
      " [0.98940528 0.01059472]\n",
      " [0.99349271 0.00650729]\n",
      " [0.99058912 0.00941088]\n",
      " [0.9650349  0.0349651 ]\n",
      " [0.99078095 0.00921905]\n",
      " [0.96995941 0.03004059]\n",
      " [0.99528433 0.00471567]\n",
      " [0.98084874 0.01915126]\n",
      " [0.97965412 0.02034588]\n",
      " [0.94942278 0.05057722]\n",
      " [0.90172799 0.09827201]\n",
      " [0.99583803 0.00416197]\n",
      " [0.9902475  0.0097525 ]\n",
      " [0.99656888 0.00343112]\n",
      " [0.99663428 0.00336572]\n",
      " [0.99574022 0.00425978]\n",
      " [0.99652229 0.00347771]\n",
      " [0.98355759 0.01644241]\n",
      " [0.94772492 0.05227508]\n",
      " [0.87105289 0.12894711]\n",
      " [0.99577193 0.00422807]\n",
      " [0.99363958 0.00636042]\n",
      " [0.99607291 0.00392709]\n",
      " [0.92575095 0.07424905]\n",
      " [0.98527194 0.01472806]\n",
      " [0.97438828 0.02561172]\n",
      " [0.99658397 0.00341603]\n",
      " [0.91706633 0.08293367]\n",
      " [0.95396054 0.04603946]\n",
      " [0.9937984  0.0062016 ]\n",
      " [0.796293   0.203707  ]\n",
      " [0.99652014 0.00347986]]\n"
     ]
    },
    {
     "data": {
      "text/html": "<div>\n<style scoped>\n    .dataframe tbody tr th:only-of-type {\n        vertical-align: middle;\n    }\n\n    .dataframe tbody tr th {\n        vertical-align: top;\n    }\n\n    .dataframe thead th {\n        text-align: right;\n    }\n</style>\n<table border=\"1\" class=\"dataframe\">\n  <thead>\n    <tr style=\"text-align: right;\">\n      <th></th>\n      <th>Player</th>\n      <th>prediction</th>\n      <th>ROY_prob</th>\n    </tr>\n  </thead>\n  <tbody>\n    <tr>\n      <th>0</th>\n      <td>Precious Achiuwa\\achiupr01</td>\n      <td>0</td>\n      <td>0.033707</td>\n    </tr>\n    <tr>\n      <th>1</th>\n      <td>Ty-Shon Alexander\\alexaty01</td>\n      <td>0</td>\n      <td>0.003793</td>\n    </tr>\n    <tr>\n      <th>2</th>\n      <td>Cole Anthony\\anthoco01</td>\n      <td>0</td>\n      <td>0.315155</td>\n    </tr>\n    <tr>\n      <th>3</th>\n      <td>Deni Avdija\\avdijde01</td>\n      <td>0</td>\n      <td>0.048930</td>\n    </tr>\n    <tr>\n      <th>4</th>\n      <td>Udoka Azubuike\\azubuud01</td>\n      <td>0</td>\n      <td>0.003857</td>\n    </tr>\n    <tr>\n      <th>...</th>\n      <td>...</td>\n      <td>...</td>\n      <td>...</td>\n    </tr>\n    <tr>\n      <th>72</th>\n      <td>Patrick Williams\\willipa01</td>\n      <td>0</td>\n      <td>0.082934</td>\n    </tr>\n    <tr>\n      <th>73</th>\n      <td>Dylan Windler\\windldy01</td>\n      <td>0</td>\n      <td>0.046039</td>\n    </tr>\n    <tr>\n      <th>74</th>\n      <td>Cassius Winston\\winstca01</td>\n      <td>0</td>\n      <td>0.006202</td>\n    </tr>\n    <tr>\n      <th>75</th>\n      <td>James Wiseman\\wisemja01</td>\n      <td>0</td>\n      <td>0.203707</td>\n    </tr>\n    <tr>\n      <th>76</th>\n      <td>Robert Woodard\\woodaro01</td>\n      <td>0</td>\n      <td>0.003480</td>\n    </tr>\n  </tbody>\n</table>\n<p>77 rows × 3 columns</p>\n</div>",
      "text/plain": "                         Player  prediction  ROY_prob\n0    Precious Achiuwa\\achiupr01           0  0.033707\n1   Ty-Shon Alexander\\alexaty01           0  0.003793\n2        Cole Anthony\\anthoco01           0  0.315155\n3         Deni Avdija\\avdijde01           0  0.048930\n4      Udoka Azubuike\\azubuud01           0  0.003857\n..                          ...         ...       ...\n72   Patrick Williams\\willipa01           0  0.082934\n73      Dylan Windler\\windldy01           0  0.046039\n74    Cassius Winston\\winstca01           0  0.006202\n75      James Wiseman\\wisemja01           0  0.203707\n76     Robert Woodard\\woodaro01           0  0.003480\n\n[77 rows x 3 columns]"
     },
     "execution_count": 38,
     "metadata": {},
     "output_type": "execute_result"
    }
   ],
   "source": [
    "roy_prob=clf.predict_proba(clean_rookies)\n",
    "print(roy_prob)\n",
    "y_probability=[]\n",
    "n_probability=[]\n",
    "for prob in roy_prob:\n",
    "    y_probability.append(prob[1])\n",
    "    n_probability.append(prob[0])\n",
    "rookie = current_rookies[\"Player\"].tolist()\n",
    "roy_df=pd.DataFrame({\"Player\": rookie, \"prediction\": roy_21_prediction, \"ROY_prob\": y_probability})\n",
    "roy_df"
   ]
  },
  {
   "cell_type": "code",
   "execution_count": 39,
   "metadata": {},
   "outputs": [
    {
     "data": {
      "text/html": "<div>\n<style scoped>\n    .dataframe tbody tr th:only-of-type {\n        vertical-align: middle;\n    }\n\n    .dataframe tbody tr th {\n        vertical-align: top;\n    }\n\n    .dataframe thead th {\n        text-align: right;\n    }\n</style>\n<table border=\"1\" class=\"dataframe\">\n  <thead>\n    <tr style=\"text-align: right;\">\n      <th></th>\n      <th>Player</th>\n      <th>prediction</th>\n      <th>ROY_prob</th>\n    </tr>\n  </thead>\n  <tbody>\n    <tr>\n      <th>5</th>\n      <td>LaMelo Ball\\ballla01</td>\n      <td>1</td>\n      <td>83.45</td>\n    </tr>\n    <tr>\n      <th>20</th>\n      <td>Tyrese Haliburton\\halibty01</td>\n      <td>1</td>\n      <td>53.91</td>\n    </tr>\n    <tr>\n      <th>2</th>\n      <td>Cole Anthony\\anthoco01</td>\n      <td>0</td>\n      <td>31.52</td>\n    </tr>\n    <tr>\n      <th>13</th>\n      <td>Anthony Edwards\\edwaran01</td>\n      <td>0</td>\n      <td>26.37</td>\n    </tr>\n    <tr>\n      <th>75</th>\n      <td>James Wiseman\\wisemja01</td>\n      <td>0</td>\n      <td>20.37</td>\n    </tr>\n    <tr>\n      <th>...</th>\n      <td>...</td>\n      <td>...</td>\n      <td>...</td>\n    </tr>\n    <tr>\n      <th>61</th>\n      <td>Cassius Stanley\\stanlca01</td>\n      <td>0</td>\n      <td>0.35</td>\n    </tr>\n    <tr>\n      <th>58</th>\n      <td>Nick Richards\\richani01</td>\n      <td>0</td>\n      <td>0.34</td>\n    </tr>\n    <tr>\n      <th>71</th>\n      <td>Greg Whittington\\whittgr01</td>\n      <td>0</td>\n      <td>0.34</td>\n    </tr>\n    <tr>\n      <th>59</th>\n      <td>Deividas Sirvydis\\sirvyde01</td>\n      <td>0</td>\n      <td>0.34</td>\n    </tr>\n    <tr>\n      <th>11</th>\n      <td>Vernon Carey\\careyve01</td>\n      <td>0</td>\n      <td>0.31</td>\n    </tr>\n  </tbody>\n</table>\n<p>77 rows × 3 columns</p>\n</div>",
      "text/plain": "                         Player  prediction  ROY_prob\n5          LaMelo Ball\\ballla01           1     83.45\n20  Tyrese Haliburton\\halibty01           1     53.91\n2        Cole Anthony\\anthoco01           0     31.52\n13    Anthony Edwards\\edwaran01           0     26.37\n75      James Wiseman\\wisemja01           0     20.37\n..                          ...         ...       ...\n61    Cassius Stanley\\stanlca01           0      0.35\n58      Nick Richards\\richani01           0      0.34\n71   Greg Whittington\\whittgr01           0      0.34\n59  Deividas Sirvydis\\sirvyde01           0      0.34\n11       Vernon Carey\\careyve01           0      0.31\n\n[77 rows x 3 columns]"
     },
     "execution_count": 39,
     "metadata": {},
     "output_type": "execute_result"
    }
   ],
   "source": [
    "roy_df=roy_df.sort_values(by=[\"ROY_prob\"],ascending=False)\n",
    "roy_df[\"ROY_prob\"] = roy_df[\"ROY_prob\"].map(lambda x: round(x * 100, 2))\n",
    "roy_df\n",
    "\n"
   ]
  },
  {
   "cell_type": "code",
   "execution_count": 40,
   "metadata": {},
   "outputs": [],
   "source": [
    "roy_df.to_csv(\"Data/ROY_prediction.csv\")"
   ]
  }
 ],
 "metadata": {
  "kernelspec": {
   "display_name": "Python 3.6.12 64-bit ('PythonAdv': conda)",
   "metadata": {
    "interpreter": {
     "hash": "ea8bd2db114f499ef4e0f33f41bbb817be8e02a795413cee60dd2304bf702461"
    }
   },
   "name": "python3"
  },
  "language_info": {
   "codemirror_mode": {
    "name": "ipython",
    "version": 3
   },
   "file_extension": ".py",
   "mimetype": "text/x-python",
   "name": "python",
   "nbconvert_exporter": "python",
   "pygments_lexer": "ipython3",
   "version": "3.6.12"
  }
 },
 "nbformat": 4,
 "nbformat_minor": 2
}