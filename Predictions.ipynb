{
 "cells": [
  {
   "cell_type": "code",
   "execution_count": null,
   "metadata": {},
   "outputs": [],
   "source": [
    "%matplotlib inline\n",
    "\n",
    "import pandas as pd\n",
    "import matplotlib.pyplot as plt\n",
    "import numpy as np\n",
    "\n",
    "from sklearn.model_selection import train_test_split\n",
    "from sklearn.linear_model import LinearRegression\n",
    "model = LinearRegression()"
   ]
  },
  {
   "cell_type": "code",
   "execution_count": null,
   "metadata": {},
   "outputs": [],
   "source": []
  },
  {
   "cell_type": "code",
   "execution_count": null,
   "metadata": {},
   "outputs": [],
   "source": [
    "data_21 = pd.read_csv(\"Data/2021.csv\")\n",
    "X_21 = data_21[[\"MOV/A\", \"ORtg/A\", \"DRtg/A\", \"NRtg/A\"]]\n",
    "teams = data_21.Team"
   ]
  },
  {
   "cell_type": "code",
   "execution_count": null,
   "metadata": {},
   "outputs": [],
   "source": [
    "data = pd.read_csv(\"Data/2000 to 2020 data.csv\")"
   ]
  },
  {
   "cell_type": "code",
   "execution_count": null,
   "metadata": {},
   "outputs": [],
   "source": [
    "data.head()"
   ]
  },
  {
   "cell_type": "code",
   "execution_count": null,
   "metadata": {},
   "outputs": [],
   "source": [
    "X = data[[\"MOV/A\", \"ORtg/A\", \"DRtg/A\", \"NRtg/A\"]]\n",
    "y = data[\"W\"].values.reshape(-1,1)\n",
    "feature_names = X.columns\n",
    "print(X.shape, y.shape)"
   ]
  },
  {
   "cell_type": "code",
   "execution_count": null,
   "metadata": {},
   "outputs": [],
   "source": [
    "X_train, X_test, y_train, y_test = train_test_split(X, y, random_state=42)"
   ]
  },
  {
   "cell_type": "code",
   "execution_count": null,
   "metadata": {},
   "outputs": [],
   "source": [
    "model.fit(X_train, y_train)\n",
    "\n",
    "training_score = model.score(X_train, y_train)\n",
    "testing_score = model.score(X_test, y_test)\n",
    "\n",
    "print(f\"Training Score: {training_score}\")\n",
    "print(f\"Testing Score: {testing_score}\")"
   ]
  },
  {
   "cell_type": "code",
   "execution_count": null,
   "metadata": {
    "scrolled": true
   },
   "outputs": [],
   "source": [
    "plt.scatter(model.predict(X_train), model.predict(X_train) - y_train, c=\"blue\", label=\"Training Data\")\n",
    "plt.scatter(model.predict(X_test), model.predict(X_test) - y_test, c=\"orange\", label=\"Testing Data\")\n",
    "plt.legend()\n",
    "plt.hlines(y=0, xmin=y.min(), xmax=y.max())\n",
    "plt.title(\"Residual Plot\")"
   ]
  },
  {
   "cell_type": "code",
   "execution_count": null,
   "metadata": {},
   "outputs": [],
   "source": [
    "from sklearn.ensemble import RandomForestClassifier\n",
    "rf = RandomForestClassifier(n_estimators=200)\n",
    "rf = rf.fit(X_train, y_train)\n",
    "rf.score(X_test, y_test)"
   ]
  },
  {
   "cell_type": "code",
   "execution_count": null,
   "metadata": {},
   "outputs": [],
   "source": [
    "sorted(zip(rf.feature_importances_, feature_names), reverse=True)"
   ]
  },
  {
   "cell_type": "code",
   "execution_count": null,
   "metadata": {},
   "outputs": [],
   "source": [
    "import pandas as pd\n",
    "import seaborn as sn\n",
    "import matplotlib.pyplot as plt\n",
    "\n",
    "corrMatrix = data[[\"MOV/A\", \"ORtg/A\", \"DRtg/A\", \"NRtg/A\"]].corr()\n",
    "sn.heatmap(corrMatrix, annot=True)\n",
    "plt.show()"
   ]
  },
  {
   "cell_type": "code",
   "execution_count": null,
   "metadata": {},
   "outputs": [],
   "source": [
    "predictions = model.predict(X_21)\n",
    "print(f\"First 32 Predictions:   {predictions[:32]}\")\n",
    "print(f\"First 32 Actual labels: {y_test[:32].tolist()}\")"
   ]
  },
  {
   "cell_type": "code",
   "execution_count": null,
   "metadata": {},
   "outputs": [],
   "source": [
    "pred = [x[0] for x in predictions]\n",
    "preds = pd.Series(pred)\n",
    "predictions_df = pd.concat([teams, preds],axis =1)\n",
    "predictions_df.rename(columns = {0: \"Predicted Wins\"}, inplace=True)\n",
    "predictions_df\n"
   ]
  },
  {
   "cell_type": "code",
   "execution_count": null,
   "metadata": {},
   "outputs": [],
   "source": [
    "X1 = data[[\"MOV/A\", \"ORtg/A\", \"DRtg/A\"]]\n",
    "import numpy as np\n",
    "import matplotlib.pyplot as plt\n",
    "from mpl_toolkits.mplot3d import Axes3D\n",
    "\n",
    "\n",
    "from sklearn import decomposition\n",
    "from sklearn import datasets\n",
    "\n",
    "np.random.seed(5)\n",
    "\n",
    "centers = [[1, 1], [-1, -1], [1, -1]]\n",
    "\n",
    "fig = plt.figure(1, figsize=(4, 3))\n",
    "plt.clf()\n",
    "ax = Axes3D(fig, rect=[0, 0, .95, 1], elev=48, azim=134)\n",
    "\n",
    "plt.cla()\n",
    "pca = decomposition.PCA(n_components=3)\n",
    "pca.fit(X1)\n",
    "X1 = pca.transform(X1)\n",
    "\n",
    "# for name, label in [('MOV/A', 0), ('ORtg/A', 1), ('DRtg/A', 2)]:\n",
    "#     ax.text3D(X1[y == label, 0].mean(),\n",
    "#               X1[y == label, 1].mean() + 1.5,\n",
    "#               X1[y == label, 2].mean() ,name,\n",
    "        #      horizontalalignment='center',\n",
    "         #     bbox=dict(alpha=.5, edgecolor='w', facecolor='w'))\n",
    "# Reorder the labels to have colors matching the cluster results\n",
    "# y = np.choose(y, [1, 2, 0]).astype(float)\n",
    "plt.scatter(X1[:, 0], X1[:, 1], X1[:, 2], c=y, cmap=plt.cm.nipy_spectral,\n",
    "           edgecolor='k')\n",
    "\n",
    "ax.w_xaxis.set_ticklabels([])\n",
    "ax.w_yaxis.set_ticklabels([])\n",
    "ax.w_zaxis.set_ticklabels([])\n"
   ]
  },
  {
   "cell_type": "code",
   "execution_count": null,
   "metadata": {},
   "outputs": [],
   "source": [
    "mvp_hist = pd.read_csv(\"Data/MVP Data History.csv\")\n",
    "mvp_hist.head(100)"
   ]
  },
  {
   "cell_type": "code",
   "execution_count": null,
   "metadata": {},
   "outputs": [],
   "source": [
    "from sklearn.neural_network import MLPClassifier\n",
    "from sklearn.datasets import make_classification\n",
    "from sklearn.model_selection import train_test_split\n",
    "mvp_hist = mvp_hist.fillna(0)\n",
    "X_mvp = mvp_hist[[\"Age\", \"PTS\", \"TRB\", \"AST\", \"STL\", \"BLK\", \"FG%\", \"3P%\", \"FT%\"]]\n",
    "y_df=pd.get_dummies(mvp_hist[\"MVP\"], drop_first=True)\n",
    "#print(y_df)\n",
    "y_mvp = y_df[\"Y\"].values.reshape(-1,1)\n",
    "X_mvp_train, X_mvp_test, y_mvp_train, y_mvp_test = train_test_split(X_mvp, y_mvp, random_state=42)\n",
    "clf = MLPClassifier(random_state=1, max_iter=300).fit(X_mvp_train, y_mvp_train)\n",
    "mvp_prob=clf.predict_proba(X_mvp_test)\n",
    "mvp_predict=clf.predict(X_mvp_test)\n",
    "mvp_score=clf.score(X_mvp_test, y_mvp_test)\n",
    "print(mvp_prob)\n",
    "print(mvp_predict)\n",
    "print(mvp_score)\n"
   ]
  },
  {
   "cell_type": "code",
   "execution_count": null,
   "metadata": {},
   "outputs": [],
   "source": [
    "current_year = pd.read_csv(\"Data/Current_Season_Stats.csv\")\n",
    "current_year.head()"
   ]
  },
  {
   "cell_type": "code",
   "execution_count": null,
   "metadata": {},
   "outputs": [],
   "source": [
    "clean_stats = current_year[[\"Age\", \"PTS\", \"TRB\", \"AST\", \"STL\", \"BLK\", \"FG%\", \"3P%\", \"FT%\"]]\n",
    "clean_stats = clean_stats.fillna(0)"
   ]
  },
  {
   "cell_type": "code",
   "execution_count": null,
   "metadata": {},
   "outputs": [],
   "source": [
    "mvp_21_prediction = clf.predict(clean_stats)\n",
    "print(mvp_21_prediction)"
   ]
  },
  {
   "cell_type": "code",
   "execution_count": null,
   "metadata": {},
   "outputs": [],
   "source": [
    "mvp_prob=clf.predict_proba(clean_stats)\n",
    "print(mvp_prob)\n",
    "y_probability=[]\n",
    "n_probability=[]\n",
    "for prob in mvp_prob:\n",
    "    y_probability.append(prob[1])\n",
    "    n_probability.append(prob[0])\n",
    "players = current_year[\"Player\"].tolist()\n",
    "df=pd.DataFrame({\"Player\": players, \"prediction\": mvp_21_prediction, \"mvp prob\": y_probability})\n",
    "df"
   ]
  },
  {
   "cell_type": "code",
   "execution_count": null,
   "metadata": {},
   "outputs": [],
   "source": [
    "df=df.sort_values(by=[\"mvp prob\"],ascending=False)\n",
    "df[\"mvp prob\"] = df[\"mvp prob\"].map(lambda x: round(x * 100, 2))\n",
    "df\n",
    "df.to_csv(\"Data/MVP_prediction.csv\")"
   ]
  },
  {
   "cell_type": "code",
   "execution_count": null,
   "metadata": {},
   "outputs": [],
   "source": []
  },
  {
   "cell_type": "code",
   "execution_count": null,
   "metadata": {},
   "outputs": [],
   "source": [
    "roy_hist = pd.read_csv(\"Data/Rookies of the year.csv\")\n",
    "roy_hist.head()"
   ]
  },
  {
   "cell_type": "code",
   "execution_count": null,
   "metadata": {},
   "outputs": [],
   "source": [
    "from sklearn.neural_network import MLPClassifier\n",
    "from sklearn.datasets import make_classification\n",
    "from sklearn.model_selection import train_test_split\n",
    "roy_hist = roy_hist.fillna(0)\n",
    "X_roy = roy_hist[[\"MP\", \"PTS\", \"TRB\", \"AST\"]]\n",
    "roy_y_df=pd.get_dummies(roy_hist[\"ROY\"], drop_first=True)\n",
    "#print(roy_y_df)\n",
    "y_roy = roy_y_df[\"Y\"].values.reshape(-1,1)\n",
    "X_roy_train, X_roy_test, y_roy_train, y_roy_test = train_test_split(X_roy, y_roy, random_state=42)\n",
    "clf = MLPClassifier(random_state=1, max_iter=300).fit(X_roy_train, y_roy_train)\n",
    "roy_prob=clf.predict_proba(X_roy_test)\n",
    "roy_predict=clf.predict(X_roy_test)\n",
    "roy_score=clf.score(X_roy_test, y_roy_test)\n",
    "print(roy_prob)\n",
    "print(roy_predict)\n",
    "print(roy_score)"
   ]
  },
  {
   "cell_type": "code",
   "execution_count": null,
   "metadata": {},
   "outputs": [],
   "source": [
    "current_rookies=pd.read_csv(\"Data/current rookies.csv\")\n",
    "current_rookies.head()"
   ]
  },
  {
   "cell_type": "code",
   "execution_count": null,
   "metadata": {},
   "outputs": [],
   "source": [
    "clean_rookies = current_rookies[[\"MP\", \"PTS\", \"TRB\", \"AST\"]]\n",
    "clean_rookies = clean_rookies.fillna(0)\n",
    "clean_rookies"
   ]
  },
  {
   "cell_type": "code",
   "execution_count": null,
   "metadata": {},
   "outputs": [],
   "source": [
    "roy_21_prediction = clf.predict(clean_rookies)\n",
    "print(roy_21_prediction)"
   ]
  },
  {
   "cell_type": "code",
   "execution_count": null,
   "metadata": {},
   "outputs": [],
   "source": [
    "roy_prob=clf.predict_proba(clean_rookies)\n",
    "print(roy_prob)\n",
    "y_probability=[]\n",
    "n_probability=[]\n",
    "for prob in roy_prob:\n",
    "    y_probability.append(prob[1])\n",
    "    n_probability.append(prob[0])\n",
    "rookie = current_rookies[\"Player\"].tolist()\n",
    "roy_df=pd.DataFrame({\"Player\": rookie, \"prediction\": roy_21_prediction, \"ROY_prob\": y_probability})\n",
    "roy_df"
   ]
  },
  {
   "cell_type": "code",
   "execution_count": null,
   "metadata": {},
   "outputs": [],
   "source": [
    "roy_df=roy_df.sort_values(by=[\"ROY_prob\"],ascending=False)\n",
    "roy_df[\"ROY_prob\"] = roy_df[\"ROY_prob\"].map(lambda x: round(x * 100, 2))\n",
    "roy_df\n",
    "\n"
   ]
  },
  {
   "cell_type": "code",
   "execution_count": null,
   "metadata": {},
   "outputs": [],
   "source": [
    "roy_df.to_csv(\"Data/ROY_prediction.csv\")"
   ]
  }
 ],
 "metadata": {
  "kernelspec": {
   "display_name": "Python [conda env:PythonAdv]",
   "language": "python",
   "name": "conda-env-PythonAdv-py"
  },
  "language_info": {
   "codemirror_mode": {
    "name": "ipython",
    "version": 3
   },
   "file_extension": ".py",
   "mimetype": "text/x-python",
   "name": "python",
   "nbconvert_exporter": "python",
   "pygments_lexer": "ipython3",
   "version": "3.6.12"
  }
 },
 "nbformat": 4,
 "nbformat_minor": 2
}
