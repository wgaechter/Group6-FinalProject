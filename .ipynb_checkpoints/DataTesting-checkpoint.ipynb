{
 "cells": [
  {
   "cell_type": "code",
   "execution_count": 1,
   "metadata": {},
   "outputs": [],
   "source": [
    "%matplotlib inline\n",
    "\n",
    "import pandas as pd\n",
    "import matplotlib.pyplot as plt\n",
    "import numpy as np\n",
    "\n",
    "from sklearn.model_selection import train_test_split\n",
    "from sklearn.linear_model import LinearRegression\n",
    "model = LinearRegression()"
   ]
  },
  {
   "cell_type": "code",
   "execution_count": 2,
   "metadata": {},
   "outputs": [],
   "source": [
    "data = pd.read_csv(\"Data/2000 to 2020 data.csv\")"
   ]
  },
  {
   "cell_type": "code",
   "execution_count": 3,
   "metadata": {},
   "outputs": [
    {
     "data": {
      "text/html": [
       "<div>\n",
       "<style scoped>\n",
       "    .dataframe tbody tr th:only-of-type {\n",
       "        vertical-align: middle;\n",
       "    }\n",
       "\n",
       "    .dataframe tbody tr th {\n",
       "        vertical-align: top;\n",
       "    }\n",
       "\n",
       "    .dataframe thead th {\n",
       "        text-align: right;\n",
       "    }\n",
       "</style>\n",
       "<table border=\"1\" class=\"dataframe\">\n",
       "  <thead>\n",
       "    <tr style=\"text-align: right;\">\n",
       "      <th></th>\n",
       "      <th>Rk</th>\n",
       "      <th>Team</th>\n",
       "      <th>Conf</th>\n",
       "      <th>Div</th>\n",
       "      <th>W</th>\n",
       "      <th>L</th>\n",
       "      <th>W/L%</th>\n",
       "      <th>MOV</th>\n",
       "      <th>ORtg</th>\n",
       "      <th>DRtg</th>\n",
       "      <th>NRtg</th>\n",
       "      <th>MOV/A</th>\n",
       "      <th>ORtg/A</th>\n",
       "      <th>DRtg/A</th>\n",
       "      <th>NRtg/A</th>\n",
       "      <th>Year</th>\n",
       "    </tr>\n",
       "  </thead>\n",
       "  <tbody>\n",
       "    <tr>\n",
       "      <th>0</th>\n",
       "      <td>1</td>\n",
       "      <td>Los Angeles Lakers</td>\n",
       "      <td>W</td>\n",
       "      <td>P</td>\n",
       "      <td>67</td>\n",
       "      <td>15</td>\n",
       "      <td>0.817</td>\n",
       "      <td>8.55</td>\n",
       "      <td>107.85</td>\n",
       "      <td>98.79</td>\n",
       "      <td>9.05</td>\n",
       "      <td>8.41</td>\n",
       "      <td>107.66</td>\n",
       "      <td>98.75</td>\n",
       "      <td>8.92</td>\n",
       "      <td>2000</td>\n",
       "    </tr>\n",
       "    <tr>\n",
       "      <th>1</th>\n",
       "      <td>2</td>\n",
       "      <td>Portland Trail Blazers</td>\n",
       "      <td>W</td>\n",
       "      <td>P</td>\n",
       "      <td>59</td>\n",
       "      <td>23</td>\n",
       "      <td>0.720</td>\n",
       "      <td>6.40</td>\n",
       "      <td>108.75</td>\n",
       "      <td>101.67</td>\n",
       "      <td>7.08</td>\n",
       "      <td>6.37</td>\n",
       "      <td>108.71</td>\n",
       "      <td>101.68</td>\n",
       "      <td>7.03</td>\n",
       "      <td>2000</td>\n",
       "    </tr>\n",
       "    <tr>\n",
       "      <th>2</th>\n",
       "      <td>3</td>\n",
       "      <td>San Antonio Spurs</td>\n",
       "      <td>W</td>\n",
       "      <td>M</td>\n",
       "      <td>53</td>\n",
       "      <td>29</td>\n",
       "      <td>0.646</td>\n",
       "      <td>5.94</td>\n",
       "      <td>105.83</td>\n",
       "      <td>99.45</td>\n",
       "      <td>6.38</td>\n",
       "      <td>5.93</td>\n",
       "      <td>105.67</td>\n",
       "      <td>99.30</td>\n",
       "      <td>6.37</td>\n",
       "      <td>2000</td>\n",
       "    </tr>\n",
       "    <tr>\n",
       "      <th>3</th>\n",
       "      <td>4</td>\n",
       "      <td>Phoenix Suns</td>\n",
       "      <td>W</td>\n",
       "      <td>P</td>\n",
       "      <td>53</td>\n",
       "      <td>29</td>\n",
       "      <td>0.646</td>\n",
       "      <td>5.22</td>\n",
       "      <td>105.04</td>\n",
       "      <td>99.66</td>\n",
       "      <td>5.38</td>\n",
       "      <td>5.24</td>\n",
       "      <td>104.90</td>\n",
       "      <td>99.48</td>\n",
       "      <td>5.41</td>\n",
       "      <td>2000</td>\n",
       "    </tr>\n",
       "    <tr>\n",
       "      <th>4</th>\n",
       "      <td>5</td>\n",
       "      <td>Utah Jazz</td>\n",
       "      <td>W</td>\n",
       "      <td>M</td>\n",
       "      <td>55</td>\n",
       "      <td>27</td>\n",
       "      <td>0.671</td>\n",
       "      <td>4.46</td>\n",
       "      <td>107.97</td>\n",
       "      <td>103.09</td>\n",
       "      <td>4.88</td>\n",
       "      <td>4.52</td>\n",
       "      <td>108.00</td>\n",
       "      <td>103.06</td>\n",
       "      <td>4.94</td>\n",
       "      <td>2000</td>\n",
       "    </tr>\n",
       "  </tbody>\n",
       "</table>\n",
       "</div>"
      ],
      "text/plain": [
       "   Rk                    Team Conf Div   W   L   W/L%   MOV    ORtg    DRtg  \\\n",
       "0   1      Los Angeles Lakers    W   P  67  15  0.817  8.55  107.85   98.79   \n",
       "1   2  Portland Trail Blazers    W   P  59  23  0.720  6.40  108.75  101.67   \n",
       "2   3       San Antonio Spurs    W   M  53  29  0.646  5.94  105.83   99.45   \n",
       "3   4            Phoenix Suns    W   P  53  29  0.646  5.22  105.04   99.66   \n",
       "4   5               Utah Jazz    W   M  55  27  0.671  4.46  107.97  103.09   \n",
       "\n",
       "   NRtg  MOV/A  ORtg/A  DRtg/A  NRtg/A  Year  \n",
       "0  9.05   8.41  107.66   98.75    8.92  2000  \n",
       "1  7.08   6.37  108.71  101.68    7.03  2000  \n",
       "2  6.38   5.93  105.67   99.30    6.37  2000  \n",
       "3  5.38   5.24  104.90   99.48    5.41  2000  \n",
       "4  4.88   4.52  108.00  103.06    4.94  2000  "
      ]
     },
     "execution_count": 3,
     "metadata": {},
     "output_type": "execute_result"
    }
   ],
   "source": [
    "data.head()"
   ]
  },
  {
   "cell_type": "code",
   "execution_count": 4,
   "metadata": {},
   "outputs": [
    {
     "name": "stdout",
     "output_type": "stream",
     "text": [
      "(625, 4) (625, 1)\n"
     ]
    }
   ],
   "source": [
    "X = data[[\"MOV/A\", \"ORtg/A\", \"DRtg/A\", \"NRtg/A\"]]\n",
    "y = data[\"W\"].values.reshape(-1,1)\n",
    "\n",
    "print(X.shape, y.shape)"
   ]
  },
  {
   "cell_type": "code",
   "execution_count": 5,
   "metadata": {},
   "outputs": [],
   "source": [
    "X_train, X_test, y_train, y_test = train_test_split(X, y, random_state=42)"
   ]
  },
  {
   "cell_type": "code",
   "execution_count": 6,
   "metadata": {},
   "outputs": [
    {
     "name": "stdout",
     "output_type": "stream",
     "text": [
      "Training Score: 0.9102617409009788\n",
      "Testing Score: 0.9087889905452937\n"
     ]
    }
   ],
   "source": [
    "model.fit(X_train, y_train)\n",
    "\n",
    "training_score = model.score(X_train, y_train)\n",
    "testing_score = model.score(X_test, y_test)\n",
    "\n",
    "print(f\"Training Score: {training_score}\")\n",
    "print(f\"Testing Score: {testing_score}\")"
   ]
  },
  {
   "cell_type": "code",
   "execution_count": 7,
   "metadata": {},
   "outputs": [
    {
     "data": {
      "text/plain": [
       "Text(0.5, 1.0, 'Residual Plot')"
      ]
     },
     "execution_count": 7,
     "metadata": {},
     "output_type": "execute_result"
    },
    {
     "data": {
      "image/png": "[encoded data removed]",
      "text/plain": [
       "<Figure size 432x288 with 1 Axes>"
      ]
     },
     "metadata": {
      "needs_background": "light"
     },
     "output_type": "display_data"
    }
   ],
   "source": [
    "plt.scatter(model.predict(X_train), model.predict(X_train) - y_train, c=\"blue\", label=\"Training Data\")\n",
    "plt.scatter(model.predict(X_test), model.predict(X_test) - y_test, c=\"orange\", label=\"Testing Data\")\n",
    "plt.legend()\n",
    "plt.hlines(y=0, xmin=y.min(), xmax=y.max())\n",
    "plt.title(\"Residual Plot\")"
   ]
  },
  {
   "cell_type": "code",
   "execution_count": null,
   "metadata": {},
   "outputs": [],
   "source": []
  }
 ],
 "metadata": {
  "kernelspec": {
   "display_name": "Python [conda env:PythonAdv]",
   "language": "python",
   "name": "conda-env-PythonAdv-py"
  },
  "language_info": {
   "codemirror_mode": {
    "name": "ipython",
    "version": 3
   },
   "file_extension": ".py",
   "mimetype": "text/x-python",
   "name": "python",
   "nbconvert_exporter": "python",
   "pygments_lexer": "ipython3",
   "version": "3.6.12"
  }
 },
 "nbformat": 4,
 "nbformat_minor": 2
}
